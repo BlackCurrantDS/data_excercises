{
 "cells": [
  {
   "cell_type": "markdown",
   "metadata": {},
   "source": [
    "### Uso básico de la herramienta.\n",
    "\n",
    "1. **Alistamiento:** Importar todas las librerías necesarias desde el principio.\n",
    "2. **Cargar Datos:** Alistar los datos a analizar y validarlos.\n",
    "3. **Primeras preguntas:** Empecemos por lo básico y luego vamos escalando.\n",
    "4. **Grafiquemos:** Una imagen vale mas que 1000 palabras, y para eso matplotlib y seaborn.\n",
    "5. **Analicemos mas:** Analicemos un poco mas (y un poco mejor)."
   ]
  },
  {
   "cell_type": "markdown",
   "metadata": {},
   "source": [
    "### 1. Alistamiento."
   ]
  },
  {
   "cell_type": "code",
   "execution_count": 1,
   "metadata": {},
   "outputs": [],
   "source": [
    "# Cargar librerias y definimos algunos elementos y caracteristicas.\n",
    "import warnings; warnings.simplefilter('ignore')\n",
    "\n",
    "import numpy as np\n",
    "import pandas as pd\n",
    "#import seaborn as sns\n",
    "\n",
    "import matplotlib.pyplot as plt\n",
    "import matplotlib; matplotlib.style.use('ggplot')\n",
    "\n",
    "from pandas import set_option\n",
    "set_option(\"display.max_rows\", 16)\n",
    "\n",
    "LARGE_FIGSIZE = (12, 8)"
   ]
  },
  {
   "cell_type": "code",
   "execution_count": 2,
   "metadata": {},
   "outputs": [],
   "source": [
    "# inline plots\n",
    "%matplotlib inline"
   ]
  },
  {
   "cell_type": "markdown",
   "metadata": {},
   "source": [
    "### 2. Cargar datos."
   ]
  },
  {
   "cell_type": "code",
   "execution_count": 3,
   "metadata": {},
   "outputs": [
    {
     "data": {
      "text/html": [
       "<div>\n",
       "<style scoped>\n",
       "    .dataframe tbody tr th:only-of-type {\n",
       "        vertical-align: middle;\n",
       "    }\n",
       "\n",
       "    .dataframe tbody tr th {\n",
       "        vertical-align: top;\n",
       "    }\n",
       "\n",
       "    .dataframe thead th {\n",
       "        text-align: right;\n",
       "    }\n",
       "</style>\n",
       "<table border=\"1\" class=\"dataframe\">\n",
       "  <thead>\n",
       "    <tr style=\"text-align: right;\">\n",
       "      <th></th>\n",
       "      <th>Country</th>\n",
       "      <th>1964</th>\n",
       "      <th>1965</th>\n",
       "      <th>1966</th>\n",
       "      <th>1967</th>\n",
       "      <th>1968</th>\n",
       "      <th>1969</th>\n",
       "      <th>1970</th>\n",
       "      <th>1971</th>\n",
       "      <th>1972</th>\n",
       "      <th>...</th>\n",
       "      <th>2004</th>\n",
       "      <th>2005</th>\n",
       "      <th>2006</th>\n",
       "      <th>2007</th>\n",
       "      <th>2008</th>\n",
       "      <th>2009</th>\n",
       "      <th>2010</th>\n",
       "      <th>2011</th>\n",
       "      <th>2012</th>\n",
       "      <th>2013</th>\n",
       "    </tr>\n",
       "  </thead>\n",
       "  <tbody>\n",
       "    <tr>\n",
       "      <th>0</th>\n",
       "      <td>Afghanistan</td>\n",
       "      <td>33.639</td>\n",
       "      <td>34.152</td>\n",
       "      <td>34.662</td>\n",
       "      <td>35.170</td>\n",
       "      <td>35.674</td>\n",
       "      <td>36.172</td>\n",
       "      <td>36.663</td>\n",
       "      <td>37.143</td>\n",
       "      <td>37.614</td>\n",
       "      <td>...</td>\n",
       "      <td>56.583</td>\n",
       "      <td>57.071</td>\n",
       "      <td>57.582</td>\n",
       "      <td>58.102</td>\n",
       "      <td>58.618</td>\n",
       "      <td>59.124</td>\n",
       "      <td>59.612</td>\n",
       "      <td>60.079</td>\n",
       "      <td>60.524</td>\n",
       "      <td>60.947</td>\n",
       "    </tr>\n",
       "    <tr>\n",
       "      <th>1</th>\n",
       "      <td>Albania</td>\n",
       "      <td>65.475</td>\n",
       "      <td>65.863</td>\n",
       "      <td>66.122</td>\n",
       "      <td>66.316</td>\n",
       "      <td>66.500</td>\n",
       "      <td>66.702</td>\n",
       "      <td>66.948</td>\n",
       "      <td>67.251</td>\n",
       "      <td>67.595</td>\n",
       "      <td>...</td>\n",
       "      <td>75.725</td>\n",
       "      <td>75.949</td>\n",
       "      <td>76.124</td>\n",
       "      <td>76.278</td>\n",
       "      <td>76.433</td>\n",
       "      <td>76.598</td>\n",
       "      <td>76.780</td>\n",
       "      <td>76.979</td>\n",
       "      <td>77.185</td>\n",
       "      <td>77.392</td>\n",
       "    </tr>\n",
       "    <tr>\n",
       "      <th>2</th>\n",
       "      <td>Algeria</td>\n",
       "      <td>47.953</td>\n",
       "      <td>48.389</td>\n",
       "      <td>48.806</td>\n",
       "      <td>49.205</td>\n",
       "      <td>49.592</td>\n",
       "      <td>49.976</td>\n",
       "      <td>50.366</td>\n",
       "      <td>50.767</td>\n",
       "      <td>51.195</td>\n",
       "      <td>...</td>\n",
       "      <td>69.682</td>\n",
       "      <td>69.854</td>\n",
       "      <td>70.020</td>\n",
       "      <td>70.180</td>\n",
       "      <td>70.332</td>\n",
       "      <td>70.477</td>\n",
       "      <td>70.615</td>\n",
       "      <td>70.747</td>\n",
       "      <td>70.874</td>\n",
       "      <td>71.000</td>\n",
       "    </tr>\n",
       "    <tr>\n",
       "      <th>3</th>\n",
       "      <td>American Samoa</td>\n",
       "      <td>NaN</td>\n",
       "      <td>NaN</td>\n",
       "      <td>NaN</td>\n",
       "      <td>NaN</td>\n",
       "      <td>NaN</td>\n",
       "      <td>NaN</td>\n",
       "      <td>NaN</td>\n",
       "      <td>NaN</td>\n",
       "      <td>NaN</td>\n",
       "      <td>...</td>\n",
       "      <td>NaN</td>\n",
       "      <td>NaN</td>\n",
       "      <td>NaN</td>\n",
       "      <td>NaN</td>\n",
       "      <td>NaN</td>\n",
       "      <td>NaN</td>\n",
       "      <td>NaN</td>\n",
       "      <td>NaN</td>\n",
       "      <td>NaN</td>\n",
       "      <td>NaN</td>\n",
       "    </tr>\n",
       "    <tr>\n",
       "      <th>4</th>\n",
       "      <td>Andorra</td>\n",
       "      <td>NaN</td>\n",
       "      <td>NaN</td>\n",
       "      <td>NaN</td>\n",
       "      <td>NaN</td>\n",
       "      <td>NaN</td>\n",
       "      <td>NaN</td>\n",
       "      <td>NaN</td>\n",
       "      <td>NaN</td>\n",
       "      <td>NaN</td>\n",
       "      <td>...</td>\n",
       "      <td>NaN</td>\n",
       "      <td>NaN</td>\n",
       "      <td>NaN</td>\n",
       "      <td>NaN</td>\n",
       "      <td>NaN</td>\n",
       "      <td>NaN</td>\n",
       "      <td>NaN</td>\n",
       "      <td>NaN</td>\n",
       "      <td>NaN</td>\n",
       "      <td>NaN</td>\n",
       "    </tr>\n",
       "  </tbody>\n",
       "</table>\n",
       "<p>5 rows × 51 columns</p>\n",
       "</div>"
      ],
      "text/plain": [
       "          Country    1964    1965    1966    1967    1968    1969    1970  \\\n",
       "0     Afghanistan  33.639  34.152  34.662  35.170  35.674  36.172  36.663   \n",
       "1         Albania  65.475  65.863  66.122  66.316  66.500  66.702  66.948   \n",
       "2         Algeria  47.953  48.389  48.806  49.205  49.592  49.976  50.366   \n",
       "3  American Samoa     NaN     NaN     NaN     NaN     NaN     NaN     NaN   \n",
       "4         Andorra     NaN     NaN     NaN     NaN     NaN     NaN     NaN   \n",
       "\n",
       "     1971    1972  ...    2004    2005    2006    2007    2008    2009  \\\n",
       "0  37.143  37.614  ...  56.583  57.071  57.582  58.102  58.618  59.124   \n",
       "1  67.251  67.595  ...  75.725  75.949  76.124  76.278  76.433  76.598   \n",
       "2  50.767  51.195  ...  69.682  69.854  70.020  70.180  70.332  70.477   \n",
       "3     NaN     NaN  ...     NaN     NaN     NaN     NaN     NaN     NaN   \n",
       "4     NaN     NaN  ...     NaN     NaN     NaN     NaN     NaN     NaN   \n",
       "\n",
       "     2010    2011    2012    2013  \n",
       "0  59.612  60.079  60.524  60.947  \n",
       "1  76.780  76.979  77.185  77.392  \n",
       "2  70.615  70.747  70.874  71.000  \n",
       "3     NaN     NaN     NaN     NaN  \n",
       "4     NaN     NaN     NaN     NaN  \n",
       "\n",
       "[5 rows x 51 columns]"
      ]
     },
     "execution_count": 3,
     "metadata": {},
     "output_type": "execute_result"
    }
   ],
   "source": [
    "# Leemos el conjunto de datos y lo cargamos a un DataFrame en el objeto \"df\", y luego verificamos las primeras lineas.\n",
    "df = pd.read_csv('small_data_samples/gapminder_life_expectancy.csv')\n",
    "df.head()"
   ]
  },
  {
   "cell_type": "code",
   "execution_count": 4,
   "metadata": {},
   "outputs": [
    {
     "data": {
      "text/plain": [
       "(244, 51)"
      ]
     },
     "execution_count": 4,
     "metadata": {},
     "output_type": "execute_result"
    }
   ],
   "source": [
    "# ¿Como es el conjunto de datos procesado\n",
    "df.shape"
   ]
  },
  {
   "cell_type": "code",
   "execution_count": 5,
   "metadata": {},
   "outputs": [
    {
     "name": "stdout",
     "output_type": "stream",
     "text": [
      "<class 'pandas.core.frame.DataFrame'>\n",
      "RangeIndex: 244 entries, 0 to 243\n",
      "Data columns (total 51 columns):\n",
      "Country    244 non-null object\n",
      "1964       202 non-null float64\n",
      "1965       202 non-null float64\n",
      "1966       202 non-null float64\n",
      "1967       202 non-null float64\n",
      "1968       202 non-null float64\n",
      "1969       202 non-null float64\n",
      "1970       202 non-null float64\n",
      "1971       202 non-null float64\n",
      "1972       202 non-null float64\n",
      "1973       202 non-null float64\n",
      "1974       202 non-null float64\n",
      "1975       202 non-null float64\n",
      "1976       202 non-null float64\n",
      "1977       202 non-null float64\n",
      "1978       202 non-null float64\n",
      "1979       202 non-null float64\n",
      "1980       202 non-null float64\n",
      "1981       202 non-null float64\n",
      "1982       202 non-null float64\n",
      "1983       202 non-null float64\n",
      "1984       202 non-null float64\n",
      "1985       202 non-null float64\n",
      "1986       202 non-null float64\n",
      "1987       202 non-null float64\n",
      "1988       202 non-null float64\n",
      "1989       202 non-null float64\n",
      "1990       202 non-null float64\n",
      "1991       202 non-null float64\n",
      "1992       202 non-null float64\n",
      "1993       202 non-null float64\n",
      "1994       202 non-null float64\n",
      "1995       202 non-null float64\n",
      "1996       202 non-null float64\n",
      "1997       203 non-null float64\n",
      "1998       203 non-null float64\n",
      "1999       203 non-null float64\n",
      "2000       203 non-null float64\n",
      "2001       203 non-null float64\n",
      "2002       203 non-null float64\n",
      "2003       203 non-null float64\n",
      "2004       203 non-null float64\n",
      "2005       203 non-null float64\n",
      "2006       204 non-null float64\n",
      "2007       202 non-null float64\n",
      "2008       202 non-null float64\n",
      "2009       202 non-null float64\n",
      "2010       202 non-null float64\n",
      "2011       202 non-null float64\n",
      "2012       202 non-null float64\n",
      "2013       202 non-null float64\n",
      "dtypes: float64(50), object(1)\n",
      "memory usage: 97.3+ KB\n"
     ]
    }
   ],
   "source": [
    "# ¿Que contiene?\n",
    "df.info()"
   ]
  },
  {
   "cell_type": "code",
   "execution_count": 6,
   "metadata": {},
   "outputs": [
    {
     "data": {
      "text/html": [
       "<div>\n",
       "<style scoped>\n",
       "    .dataframe tbody tr th:only-of-type {\n",
       "        vertical-align: middle;\n",
       "    }\n",
       "\n",
       "    .dataframe tbody tr th {\n",
       "        vertical-align: top;\n",
       "    }\n",
       "\n",
       "    .dataframe thead th {\n",
       "        text-align: right;\n",
       "    }\n",
       "</style>\n",
       "<table border=\"1\" class=\"dataframe\">\n",
       "  <thead>\n",
       "    <tr style=\"text-align: right;\">\n",
       "      <th></th>\n",
       "      <th>1964</th>\n",
       "      <th>1965</th>\n",
       "      <th>1966</th>\n",
       "      <th>1967</th>\n",
       "      <th>1968</th>\n",
       "      <th>1969</th>\n",
       "      <th>1970</th>\n",
       "      <th>1971</th>\n",
       "      <th>1972</th>\n",
       "      <th>1973</th>\n",
       "      <th>...</th>\n",
       "      <th>2004</th>\n",
       "      <th>2005</th>\n",
       "      <th>2006</th>\n",
       "      <th>2007</th>\n",
       "      <th>2008</th>\n",
       "      <th>2009</th>\n",
       "      <th>2010</th>\n",
       "      <th>2011</th>\n",
       "      <th>2012</th>\n",
       "      <th>2013</th>\n",
       "    </tr>\n",
       "    <tr>\n",
       "      <th>Country</th>\n",
       "      <th></th>\n",
       "      <th></th>\n",
       "      <th></th>\n",
       "      <th></th>\n",
       "      <th></th>\n",
       "      <th></th>\n",
       "      <th></th>\n",
       "      <th></th>\n",
       "      <th></th>\n",
       "      <th></th>\n",
       "      <th></th>\n",
       "      <th></th>\n",
       "      <th></th>\n",
       "      <th></th>\n",
       "      <th></th>\n",
       "      <th></th>\n",
       "      <th></th>\n",
       "      <th></th>\n",
       "      <th></th>\n",
       "      <th></th>\n",
       "      <th></th>\n",
       "    </tr>\n",
       "  </thead>\n",
       "  <tbody>\n",
       "    <tr>\n",
       "      <th>Afghanistan</th>\n",
       "      <td>33.639</td>\n",
       "      <td>34.152</td>\n",
       "      <td>34.662</td>\n",
       "      <td>35.170</td>\n",
       "      <td>35.674</td>\n",
       "      <td>36.172</td>\n",
       "      <td>36.663</td>\n",
       "      <td>37.143</td>\n",
       "      <td>37.614</td>\n",
       "      <td>38.075</td>\n",
       "      <td>...</td>\n",
       "      <td>56.583</td>\n",
       "      <td>57.071</td>\n",
       "      <td>57.582</td>\n",
       "      <td>58.102</td>\n",
       "      <td>58.618</td>\n",
       "      <td>59.124</td>\n",
       "      <td>59.612</td>\n",
       "      <td>60.079</td>\n",
       "      <td>60.524</td>\n",
       "      <td>60.947</td>\n",
       "    </tr>\n",
       "    <tr>\n",
       "      <th>Albania</th>\n",
       "      <td>65.475</td>\n",
       "      <td>65.863</td>\n",
       "      <td>66.122</td>\n",
       "      <td>66.316</td>\n",
       "      <td>66.500</td>\n",
       "      <td>66.702</td>\n",
       "      <td>66.948</td>\n",
       "      <td>67.251</td>\n",
       "      <td>67.595</td>\n",
       "      <td>67.966</td>\n",
       "      <td>...</td>\n",
       "      <td>75.725</td>\n",
       "      <td>75.949</td>\n",
       "      <td>76.124</td>\n",
       "      <td>76.278</td>\n",
       "      <td>76.433</td>\n",
       "      <td>76.598</td>\n",
       "      <td>76.780</td>\n",
       "      <td>76.979</td>\n",
       "      <td>77.185</td>\n",
       "      <td>77.392</td>\n",
       "    </tr>\n",
       "    <tr>\n",
       "      <th>Algeria</th>\n",
       "      <td>47.953</td>\n",
       "      <td>48.389</td>\n",
       "      <td>48.806</td>\n",
       "      <td>49.205</td>\n",
       "      <td>49.592</td>\n",
       "      <td>49.976</td>\n",
       "      <td>50.366</td>\n",
       "      <td>50.767</td>\n",
       "      <td>51.195</td>\n",
       "      <td>51.670</td>\n",
       "      <td>...</td>\n",
       "      <td>69.682</td>\n",
       "      <td>69.854</td>\n",
       "      <td>70.020</td>\n",
       "      <td>70.180</td>\n",
       "      <td>70.332</td>\n",
       "      <td>70.477</td>\n",
       "      <td>70.615</td>\n",
       "      <td>70.747</td>\n",
       "      <td>70.874</td>\n",
       "      <td>71.000</td>\n",
       "    </tr>\n",
       "    <tr>\n",
       "      <th>American Samoa</th>\n",
       "      <td>NaN</td>\n",
       "      <td>NaN</td>\n",
       "      <td>NaN</td>\n",
       "      <td>NaN</td>\n",
       "      <td>NaN</td>\n",
       "      <td>NaN</td>\n",
       "      <td>NaN</td>\n",
       "      <td>NaN</td>\n",
       "      <td>NaN</td>\n",
       "      <td>NaN</td>\n",
       "      <td>...</td>\n",
       "      <td>NaN</td>\n",
       "      <td>NaN</td>\n",
       "      <td>NaN</td>\n",
       "      <td>NaN</td>\n",
       "      <td>NaN</td>\n",
       "      <td>NaN</td>\n",
       "      <td>NaN</td>\n",
       "      <td>NaN</td>\n",
       "      <td>NaN</td>\n",
       "      <td>NaN</td>\n",
       "    </tr>\n",
       "    <tr>\n",
       "      <th>Andorra</th>\n",
       "      <td>NaN</td>\n",
       "      <td>NaN</td>\n",
       "      <td>NaN</td>\n",
       "      <td>NaN</td>\n",
       "      <td>NaN</td>\n",
       "      <td>NaN</td>\n",
       "      <td>NaN</td>\n",
       "      <td>NaN</td>\n",
       "      <td>NaN</td>\n",
       "      <td>NaN</td>\n",
       "      <td>...</td>\n",
       "      <td>NaN</td>\n",
       "      <td>NaN</td>\n",
       "      <td>NaN</td>\n",
       "      <td>NaN</td>\n",
       "      <td>NaN</td>\n",
       "      <td>NaN</td>\n",
       "      <td>NaN</td>\n",
       "      <td>NaN</td>\n",
       "      <td>NaN</td>\n",
       "      <td>NaN</td>\n",
       "    </tr>\n",
       "  </tbody>\n",
       "</table>\n",
       "<p>5 rows × 50 columns</p>\n",
       "</div>"
      ],
      "text/plain": [
       "                  1964    1965    1966    1967    1968    1969    1970  \\\n",
       "Country                                                                  \n",
       "Afghanistan     33.639  34.152  34.662  35.170  35.674  36.172  36.663   \n",
       "Albania         65.475  65.863  66.122  66.316  66.500  66.702  66.948   \n",
       "Algeria         47.953  48.389  48.806  49.205  49.592  49.976  50.366   \n",
       "American Samoa     NaN     NaN     NaN     NaN     NaN     NaN     NaN   \n",
       "Andorra            NaN     NaN     NaN     NaN     NaN     NaN     NaN   \n",
       "\n",
       "                  1971    1972    1973  ...    2004    2005    2006    2007  \\\n",
       "Country                                 ...                                   \n",
       "Afghanistan     37.143  37.614  38.075  ...  56.583  57.071  57.582  58.102   \n",
       "Albania         67.251  67.595  67.966  ...  75.725  75.949  76.124  76.278   \n",
       "Algeria         50.767  51.195  51.670  ...  69.682  69.854  70.020  70.180   \n",
       "American Samoa     NaN     NaN     NaN  ...     NaN     NaN     NaN     NaN   \n",
       "Andorra            NaN     NaN     NaN  ...     NaN     NaN     NaN     NaN   \n",
       "\n",
       "                  2008    2009    2010    2011    2012    2013  \n",
       "Country                                                         \n",
       "Afghanistan     58.618  59.124  59.612  60.079  60.524  60.947  \n",
       "Albania         76.433  76.598  76.780  76.979  77.185  77.392  \n",
       "Algeria         70.332  70.477  70.615  70.747  70.874  71.000  \n",
       "American Samoa     NaN     NaN     NaN     NaN     NaN     NaN  \n",
       "Andorra            NaN     NaN     NaN     NaN     NaN     NaN  \n",
       "\n",
       "[5 rows x 50 columns]"
      ]
     },
     "execution_count": 6,
     "metadata": {},
     "output_type": "execute_result"
    }
   ],
   "source": [
    "# Definimos un indice, y volvemos a mirar como es ahora.\n",
    "df = df.set_index('Country')\n",
    "df.head()"
   ]
  },
  {
   "cell_type": "markdown",
   "metadata": {},
   "source": [
    "### 3. Primeras preguntas"
   ]
  },
  {
   "cell_type": "markdown",
   "metadata": {},
   "source": [
    "**¿Incrementó la expectativa de vida desde 1960 a 2013?**"
   ]
  },
  {
   "cell_type": "code",
   "execution_count": 7,
   "metadata": {},
   "outputs": [
    {
     "data": {
      "text/plain": [
       "<matplotlib.axes._subplots.AxesSubplot at 0x7f86ea13de10>"
      ]
     },
     "execution_count": 7,
     "metadata": {},
     "output_type": "execute_result"
    },
    {
     "data": {
      "image/png": "[encoded data removed]",
      "text/plain": [
       "<Figure size 432x288 with 1 Axes>"
      ]
     },
     "metadata": {
      "needs_background": "light"
     },
     "output_type": "display_data"
    }
   ],
   "source": [
    "df.mean().plot()"
   ]
  },
  {
   "cell_type": "markdown",
   "metadata": {},
   "source": [
    "**En 1960 ¿que países tenían la expectativa de vida mas baja y la mas alta?**"
   ]
  },
  {
   "cell_type": "code",
   "execution_count": null,
   "metadata": {},
   "outputs": [],
   "source": [
    "# idxmax e idxmin evidencian los indices correspondientes a los mayores y menos valores en una columna.\n",
    "print(df['1964'].idxmax())\n",
    "print(df['1964'].idxmin())"
   ]
  },
  {
   "cell_type": "markdown",
   "metadata": {},
   "source": [
    "**¿Cuales son los valores de la media, el mas bajo y el mas alto en 1960?**"
   ]
  },
  {
   "cell_type": "code",
   "execution_count": null,
   "metadata": {},
   "outputs": [],
   "source": [
    "# max y min brindan los valores, mean calcula la media.\n",
    "print(np.round(df['1964'].max()))\n",
    "print(np.round(df['1964'].min()))\n",
    "print(np.round(df['1964'].mean()))"
   ]
  },
  {
   "cell_type": "markdown",
   "metadata": {
    "collapsed": true
   },
   "source": [
    "**¿Cuales son los valores mas alto, mas bajo y la media para un año dado?**"
   ]
  },
  {
   "cell_type": "code",
   "execution_count": null,
   "metadata": {},
   "outputs": [],
   "source": [
    "# Definimos una funcion (es Python a fin de cuentas) para obtener \"high\", \"low\", y la mediana para un año dado.\n",
    "def high_low_mean(year):\n",
    "    print(\"En el año\", year)\n",
    "    print(df[year].idxmin(), \"tuvo la expectativa de vida mas baja, con:\", np.round(df[year].min()))\n",
    "    print(df[year].idxmax(), \"tuvo la expectativa de vida mas alta, con:\", np.round(df[year].max()))\n",
    "    print(\"La expectativa de vida media fue de: \", np.round(df[year].mean()))"
   ]
  },
  {
   "cell_type": "code",
   "execution_count": null,
   "metadata": {},
   "outputs": [],
   "source": [
    "high_low_mean('2010')"
   ]
  },
  {
   "cell_type": "markdown",
   "metadata": {},
   "source": [
    "**¿Que países vieron los mayores cambios en su expectativa de vida?**"
   ]
  },
  {
   "cell_type": "code",
   "execution_count": null,
   "metadata": {},
   "outputs": [],
   "source": [
    "# Calculamos el cambio y lo añadimos a una nueva columna \"gain\": gain = (value_in_2013 - value_in_1960)/value_in_1960\n",
    "df['gain'] = np.round((df['2013']-df['1964'])/df['1964'],2)"
   ]
  },
  {
   "cell_type": "code",
   "execution_count": null,
   "metadata": {},
   "outputs": [],
   "source": [
    "# Volvemos a revisar como se ve ahora\n",
    "df.head()"
   ]
  },
  {
   "cell_type": "code",
   "execution_count": null,
   "metadata": {},
   "outputs": [],
   "source": [
    "# y creamos un DataFrame solo con ese dato y miramos como se ve.\n",
    "gain = df['gain']\n",
    "gain.head()"
   ]
  },
  {
   "cell_type": "code",
   "execution_count": null,
   "metadata": {},
   "outputs": [],
   "source": [
    "# Ordenemos la serie y descartemos los valores ausentes, y veamos como se ve nuevamente.\n",
    "df_gain = gain.dropna()\n",
    "df_gain.head()"
   ]
  },
  {
   "cell_type": "code",
   "execution_count": null,
   "metadata": {},
   "outputs": [],
   "source": [
    "# Los diez paises con el mayor incremento.\n",
    "df_gain.head(10)"
   ]
  },
  {
   "cell_type": "code",
   "execution_count": null,
   "metadata": {},
   "outputs": [],
   "source": [
    "# Los diez paises con el menor incremento.\n",
    "df_gain.tail(10)"
   ]
  },
  {
   "cell_type": "code",
   "execution_count": null,
   "metadata": {},
   "outputs": [],
   "source": [
    "# Borramos la columna \"gain\" del dataframe original porque ya la tenemos por aparte.\n",
    "del df['gain']"
   ]
  },
  {
   "cell_type": "code",
   "execution_count": null,
   "metadata": {},
   "outputs": [],
   "source": [
    "# Un histograma.\n",
    "df_gain.hist()"
   ]
  },
  {
   "cell_type": "code",
   "execution_count": null,
   "metadata": {},
   "outputs": [],
   "source": [
    "# Grafica del KDE (kernel density estimation) de \"gains\"\n",
    "df_gain.plot(kind='kde')"
   ]
  },
  {
   "cell_type": "code",
   "execution_count": null,
   "metadata": {},
   "outputs": [],
   "source": [
    "# La grafica resultante es muy grande para poder ser apreciada, pero puede exportarse a una imagen.\n",
    "ax = df_gain.plot(kind='bar', figsize=(50,25));\n",
    "ax.plot()\n",
    "# fig = ax.get_figure()\n",
    "# fig.savefig('gains.png')"
   ]
  },
  {
   "cell_type": "markdown",
   "metadata": {},
   "source": [
    "## 4. Grafiquemos un poco"
   ]
  },
  {
   "cell_type": "markdown",
   "metadata": {},
   "source": [
    "### Histogramas"
   ]
  },
  {
   "cell_type": "code",
   "execution_count": null,
   "metadata": {},
   "outputs": [],
   "source": [
    "# Expectativa de vida en 1960.\n",
    "df.hist(column='1964', bins=20);"
   ]
  },
  {
   "cell_type": "code",
   "execution_count": null,
   "metadata": {},
   "outputs": [],
   "source": [
    "# Comparemos 1964 contra 2013.\n",
    "f, (ax1, ax2) = plt.subplots(2);\n",
    "df.hist(column='1964', ax=ax1);\n",
    "df.hist(column='2013', color='green', ax=ax2);"
   ]
  },
  {
   "cell_type": "code",
   "execution_count": null,
   "metadata": {},
   "outputs": [],
   "source": [
    "# Ahora hagamoslo en la misma grafica.\n",
    "f, (ax1) = plt.subplots(1,figsize=LARGE_FIGSIZE)\n",
    "df.hist(column='1964',bins=30, ax=ax1);\n",
    "df.hist(column='2013',bins=30, color='blue', ax=ax1);\n",
    "plt.xlabel('Expectativa de Vida')\n",
    "plt.ylabel('Número de Países')\n",
    "plt.title(\"1964 vs 2013\")"
   ]
  },
  {
   "cell_type": "code",
   "execution_count": null,
   "metadata": {},
   "outputs": [],
   "source": [
    "# Demasiado a mano, volvamoslo una funcion para usarlo en cualquier año.\n",
    "def compare_hist(year1,year2):\n",
    "    f, (ax1) = plt.subplots(1,figsize=LARGE_FIGSIZE)\n",
    "    df.hist(column=year1,bins=20, ax=ax1);\n",
    "    df.hist(column=year2,bins=20, color='blue', ax=ax1);\n",
    "    plt.xlabel('Life Expectancy')\n",
    "    plt.ylabel('Number of Countries')\n",
    "    plt.title(str(year1) + \" vs \" + str(year2))"
   ]
  },
  {
   "cell_type": "code",
   "execution_count": null,
   "metadata": {},
   "outputs": [],
   "source": [
    "compare_hist('1964','2010')"
   ]
  },
  {
   "cell_type": "markdown",
   "metadata": {},
   "source": [
    "### Kernel Density Estimate (KDE) and Rugplot"
   ]
  },
  {
   "cell_type": "code",
   "execution_count": null,
   "metadata": {},
   "outputs": [],
   "source": [
    "# Visualicemos un poco los datos, y aprovechemos que los analisis pueden parametrizarse.\n",
    "\n",
    "sns.distplot(df['1964'].dropna(), hist=True, kde=True, rug=False, bins=25);"
   ]
  },
  {
   "cell_type": "code",
   "execution_count": null,
   "metadata": {},
   "outputs": [],
   "source": [
    "# Asi como lo hicimos antes, ahora volvamoslo funcion para comparar años.\n",
    "def sns_compare(year1,year2):\n",
    "    f, (ax1) = plt.subplots(1, figsize=LARGE_FIGSIZE)\n",
    "    for yr in range(int(year1),int(year2)):\n",
    "        sns.distplot(df[str(yr)].dropna(), hist=False, kde=True, rug=False, bins=25)"
   ]
  },
  {
   "cell_type": "code",
   "execution_count": null,
   "metadata": {},
   "outputs": [],
   "source": [
    "sns_compare('2000','2010')"
   ]
  },
  {
   "cell_type": "code",
   "execution_count": null,
   "metadata": {},
   "outputs": [],
   "source": [
    "# Una comparacion lado a lado.\n",
    "f, (ax1) = plt.subplots(1, figsize=LARGE_FIGSIZE)\n",
    "sns.distplot(df['1964'].dropna(),hist=True, kde=True, rug=False, bins=25);\n",
    "sns.distplot(df['2010'].dropna(),hist=True, kde=True, rug=False, bins=25);\n",
    "plt.xlabel('Exopectativa de Vida');\n",
    "plt.ylabel('Cantidad de Paises');\n",
    "plt.title('Expectativa de Vida: 1960 vs 2010')"
   ]
  },
  {
   "cell_type": "markdown",
   "metadata": {},
   "source": [
    "#### Diagrama de caja."
   ]
  },
  {
   "cell_type": "code",
   "execution_count": null,
   "metadata": {},
   "outputs": [],
   "source": [
    "# boxplot using standard pandas and matplotlib\n",
    "df.boxplot(column='1964');"
   ]
  },
  {
   "cell_type": "code",
   "execution_count": null,
   "metadata": {},
   "outputs": [],
   "source": [
    "df.boxplot(column=['1964','2010']);"
   ]
  },
  {
   "cell_type": "markdown",
   "metadata": {},
   "source": [
    "#### Diagrama de violin."
   ]
  },
  {
   "cell_type": "code",
   "execution_count": null,
   "metadata": {},
   "outputs": [],
   "source": [
    "sns.violinplot(df['1964'])"
   ]
  },
  {
   "cell_type": "code",
   "execution_count": null,
   "metadata": {},
   "outputs": [],
   "source": [
    "sns.violinplot(df['1964'], palette=\"Set2\",linewidth=5)\n",
    "sns.violinplot(df['2010'],linewidth=5)"
   ]
  },
  {
   "cell_type": "markdown",
   "metadata": {},
   "source": [
    "## 5. Analicemos un poco mas (y un poco mejor)."
   ]
  },
  {
   "cell_type": "code",
   "execution_count": null,
   "metadata": {},
   "outputs": [],
   "source": [
    "# Veamos como se ve en este momento el conjunto de datos.\n",
    "df.head()"
   ]
  },
  {
   "cell_type": "code",
   "execution_count": null,
   "metadata": {},
   "outputs": [],
   "source": [
    "# Ahora transformemos el conjunto de datos.\n",
    "transform = df.T\n",
    "transform.head()"
   ]
  },
  {
   "cell_type": "code",
   "execution_count": null,
   "metadata": {},
   "outputs": [],
   "source": [
    "# Eliminamos el codigo de pais, no hace falta para lo que se quiere ver.\n",
    "t = transform.ix[1:]\n",
    "t.head()"
   ]
  },
  {
   "cell_type": "code",
   "execution_count": null,
   "metadata": {},
   "outputs": [],
   "source": [
    "# Ya sabiamos que Noruega tuvo el valor mas alto para 1960\n",
    "t['Norway'].plot()\n",
    "\n",
    "# y que Mali tuvo el mas bajo.\n",
    "t['Mali'].plot()\n",
    "\n",
    "plt.legend();"
   ]
  },
  {
   "cell_type": "code",
   "execution_count": null,
   "metadata": {},
   "outputs": [],
   "source": [
    "print(\"Ganancia en Noruega = \", df_gain['Norway'])\n",
    "print(\"Ganancia en Mali. = \", df_gain['Mali'])"
   ]
  },
  {
   "cell_type": "markdown",
   "metadata": {},
   "source": [
    "### Visualicemos los datos a \"vuelo de pajaro\" 1960 - 2013"
   ]
  },
  {
   "cell_type": "code",
   "execution_count": null,
   "metadata": {},
   "outputs": [],
   "source": [
    "fig = plt.figure(figsize=LARGE_FIGSIZE)\n",
    "df.boxplot(sym=\"*\");\n",
    "plt.xticks(rotation='vertical');"
   ]
  },
  {
   "cell_type": "code",
   "execution_count": null,
   "metadata": {},
   "outputs": [],
   "source": [
    "# La expectiva de vida tuvo una caida marcada en 1977 ¿donde fue?\n",
    "df['1977'].idxmin()"
   ]
  },
  {
   "cell_type": "code",
   "execution_count": null,
   "metadata": {},
   "outputs": [],
   "source": [
    "# La expectiva de vida de nuevo tuvo una caida profunda en 1993 ¿donde fue?\n",
    "df['1993'].idxmin()"
   ]
  },
  {
   "cell_type": "code",
   "execution_count": null,
   "metadata": {},
   "outputs": [],
   "source": [
    "# Comparemos esos dos paises dentro de nuestro conjunto de datos.\n",
    "fig = plt.figure(figsize=(20,10), dpi=200)\n",
    "t['Cambodia'].plot(marker='o', color='blue');\n",
    "t['Rwanda'].plot(marker='o',color='green');\n",
    "df.mean().plot(color='red', label='Mean');\n",
    "plt.xticks(rotation='vertical');\n",
    "plt.legend();"
   ]
  },
  {
   "cell_type": "markdown",
   "metadata": {},
   "source": [
    "### Comparemos conjuntos de paises."
   ]
  },
  {
   "cell_type": "code",
   "execution_count": null,
   "metadata": {},
   "outputs": [],
   "source": [
    "# Al igual que antes, hagamoslo en una funcion para poder reutilizar el proceso.\n",
    "def compare(countries):\n",
    "    for country in countries:\n",
    "        t[country].plot(figsize=(20,10))\n",
    "        print(country, df_gain[country])\n",
    "    plt.legend();"
   ]
  },
  {
   "cell_type": "code",
   "execution_count": null,
   "metadata": {},
   "outputs": [],
   "source": [
    "# Primero creamos una lista de los 10 paises con la expectativa de vida mas baja en 1960.\n",
    "bot10 = df.sort_values(by='1964')['1964'].head(10).index.tolist()\n",
    "bot10"
   ]
  },
  {
   "cell_type": "code",
   "execution_count": null,
   "metadata": {},
   "outputs": [],
   "source": [
    "# Y ahora creamos un segundo conjunto de 10 paises con la expectativa de vida mas alta.\n",
    "top10 = df.sort_values(by='1964')['1964'].dropna().tail(10).index.tolist()\n",
    "top10"
   ]
  },
  {
   "cell_type": "code",
   "execution_count": null,
   "metadata": {},
   "outputs": [],
   "source": [
    "# comparemos entonces.\n",
    "compare(bot10)"
   ]
  },
  {
   "cell_type": "code",
   "execution_count": null,
   "metadata": {},
   "outputs": [],
   "source": [
    "compare(top10)"
   ]
  },
  {
   "cell_type": "code",
   "execution_count": null,
   "metadata": {},
   "outputs": [],
   "source": [
    "latam = ['Argentina','Bolivia','Colombia','Chile','Brazil','Paraguay','Uruguay']\n",
    "compare(latam)"
   ]
  }
 ],
 "metadata": {
  "kernelspec": {
   "display_name": "Python 3",
   "language": "python",
   "name": "python3"
  },
  "language_info": {
   "codemirror_mode": {
    "name": "ipython",
    "version": 3
   },
   "file_extension": ".py",
   "mimetype": "text/x-python",
   "name": "python",
   "nbconvert_exporter": "python",
   "pygments_lexer": "ipython3",
   "version": "3.6.8"
  }
 },
 "nbformat": 4,
 "nbformat_minor": 1
}
