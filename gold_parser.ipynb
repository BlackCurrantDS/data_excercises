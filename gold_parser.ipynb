{
 "cells": [
  {
   "cell_type": "code",
   "execution_count": 51,
   "metadata": {},
   "outputs": [],
   "source": [
    "from time import sleep\n",
    "from datetime import datetime\n",
    "\n",
    "import requests\n",
    "from bs4 import BeautifulSoup as bs"
   ]
  },
  {
   "cell_type": "code",
   "execution_count": 54,
   "metadata": {},
   "outputs": [],
   "source": [
    "def getGoldPrice():\n",
    "    source_url = \"http://gold.org\"\n",
    "    source_text = requests.get(source_url)\n",
    "    soup = bs(source_text.text, 'html.parser')\n",
    "    data_bunch = soup.findAll('div', attrs={'class': 'asset-inner'})\n",
    "    prices = [[div.find('h3').text.lower(), div.find('dd', attrs={'class': 'value'}).text] for div in data_bunch]\n",
    "    return prices\n"
   ]
  },
  {
   "cell_type": "code",
   "execution_count": 55,
   "metadata": {},
   "outputs": [
    {
     "name": "stdout",
     "output_type": "stream",
     "text": [
      "07:55:05AM, 1,280.45, 1,280.25, 1,280.05 \n",
      " \n"
     ]
    }
   ],
   "source": [
    "gold_prices = getGoldPrice()\n",
    "with open(\"goldPrice.txt\",\"w\") as f:\n",
    "    for x in range(0,10):\n",
    "        sNow = datetime.now().strftime(\"%I:%M:%S%p\")\n",
    "        f.write(\"{0}, {1}, {2}, {3} \\n \".format(sNow, gold_prices[0][1], gold_prices[1][1], gold_prices[2][1]))\n",
    "        sleep(1)"
   ]
  },
  {
   "cell_type": "code",
   "execution_count": null,
   "metadata": {},
   "outputs": [],
   "source": []
  }
 ],
 "metadata": {
  "kernelspec": {
   "display_name": "Python 3",
   "language": "python",
   "name": "python3"
  },
  "language_info": {
   "codemirror_mode": {
    "name": "ipython",
    "version": 3
   },
   "file_extension": ".py",
   "mimetype": "text/x-python",
   "name": "python",
   "nbconvert_exporter": "python",
   "pygments_lexer": "ipython3",
   "version": "3.5.1+"
  }
 },
 "nbformat": 4,
 "nbformat_minor": 2
}
