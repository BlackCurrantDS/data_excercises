{
 "cells": [
  {
   "cell_type": "markdown",
   "metadata": {},
   "source": [
    "# Introducción al Cálculo con Python"
   ]
  },
  {
   "cell_type": "markdown",
   "metadata": {},
   "source": [
    "*Esta notebook fue creada originalmente como un blog post por [Raúl E. López Briega](http://relopezbriega.com.ar/) en [Matemáticas, análisis de datos y python](http://relopezbriega.github.io). El contenido esta bajo la licencia BSD.*"
   ]
  },
  {
   "cell_type": "markdown",
   "metadata": {},
   "source": [
    "<img alt=\"Cálculo con python\" title=\"Cálculo con python\" src=\"http://relopezbriega.github.io/images/calculus.png\n",
    "\" width=\"500px\" height=\"400px\">"
   ]
  },
  {
   "cell_type": "markdown",
   "metadata": {},
   "source": [
    "## Introducción\n",
    "\n",
    "El [Cálculo](https://es.wikipedia.org/wiki/C%C3%A1lculo_infinitesimal) es una rama muy importante de la [Matemática](https://es.wikipedia.org/wiki/Matem%C3%A1tica) moderna; tiene profundas raíces en problemas físicos y  gran parte de su potencia y belleza derivan de la variedad de sus aplicaciones.\n",
    "Las subramas conocidas como [Cálculo integral](https://es.wikipedia.org/wiki/Integraci%C3%B3n) y [Cálculo diferencial](https://es.wikipedia.org/wiki/C%C3%A1lculo_diferencial) son instrumentos naturales y poderosos para atacar múltiples problemas que surgen en [Física](https://es.wikipedia.org/wiki/F%C3%ADsica), [Astronomía](https://es.wikipedia.org/wiki/Astronom%C3%ADa), [Ingeniería](https://es.wikipedia.org/wiki/Ingenier%C3%ADa), [Química](https://es.wikipedia.org/wiki/Qu%C3%ADmica), [Geología](https://es.wikipedia.org/wiki/Geolog%C3%ADa), [Biología](https://es.wikipedia.org/wiki/Biolog%C3%ADa), y en otros campos de las ciencias. \n",
    "El [Cálculo](https://es.wikipedia.org/wiki/C%C3%A1lculo_infinitesimal) no sólo es un instrumento técnico, sino que contiene una colección de ideas fascinantes y atrayentes que han ocupado el pensamiento humano durante cientos de años. Estas ideas están relacionadas con la velocidad, el área, el volumen, la razón de crecimiento, la tangente a una línea, y demás. \n",
    "\n",
    "### Historia\n",
    "\n",
    "El origen del [Cálculo](https://es.wikipedia.org/wiki/C%C3%A1lculo_infinitesimal) se remonta a más de 2300 años, cuando los griegos intentaban resolver el problema del [área](https://es.wikipedia.org/wiki/%C3%81rea) ideando el procedimiento que llamaron [método de exhaución](https://es.wikipedia.org/wiki/M%C3%A9todo_exhaustivo). La idea esencial de este método consiste en intentar determinar el [área](https://es.wikipedia.org/wiki/%C3%81rea) de una región por medio de aproximaciones utilizando regiones [poligonales](https://es.wikipedia.org/wiki/Pol%C3%ADgono) cuya [área](https://es.wikipedia.org/wiki/%C3%81rea) sea más fácil de calcular, la idea es continuar con el proceso aumentando los lados de los [polígonos](https://es.wikipedia.org/wiki/Pol%C3%ADgono) hasta llegar a la mejor aproximación posible de la región que queremos determinar. \n",
    "Este método fue usado satisfactoriamente por [Arquímedes](https://es.wikipedia.org/wiki/Arqu%C3%ADmedes) (287-212 A.C.) para hallar fórmulas exactas de las áreas del [círculo](https://es.wikipedia.org/wiki/C%C3%ADrculo) y de algunas otras figuras especiales. En la siguiente figura podemos ver al [método de exhaución](https://es.wikipedia.org/wiki/M%C3%A9todo_exhaustivo) aplicado para determinar el área del [círculo](https://es.wikipedia.org/wiki/C%C3%ADrculo).\n",
    "\n",
    "<img alt=\"Método exhaustivo para hallar el área del círculo\" title=\"Método exhaustivo para hallar el área del círculo\" src=\"https://upload.wikimedia.org/wikipedia/commons/c/c9/Archimedes_pi.svg\n",
    "\" width=\"500px\" height=\"400px\">\n",
    "\n",
    "Desde [Arquímedes](https://es.wikipedia.org/wiki/Arqu%C3%ADmedes), gradualmente, el [método de exhaución](https://es.wikipedia.org/wiki/M%C3%A9todo_exhaustivo) fue transformándose en lo que hoy se conoce como [Cálculo integral](https://es.wikipedia.org/wiki/Integraci%C3%B3n), nueva y potente disciplina que, como ya mencionamos,  tiene numerosas aplicaciones no sólo en problemas relativos a áreas y volúmenes, sino también en problemas de otras ciencias. El [Cálculo integral](https://es.wikipedia.org/wiki/Integraci%C3%B3n), que mantiene alguno de los caracteres originales del [método de exhaución](https://es.wikipedia.org/wiki/M%C3%A9todo_exhaustivo), recibió su mayor impulso en el siglo XVII, debido a los esfuerzos de [Isaac Newton](https://es.wikipedia.org/wiki/Isaac_Newton) (1642-1727) y [Gottfried Leibniz](https://es.wikipedia.org/wiki/Gottfried_Leibniz) (1646-1716), y su desarrollo continuó durante el siglo XIX, hasta que [Augustin-Louis Cauchy](https://es.wikipedia.org/wiki/Augustin_Louis_Cauchy) (1789-1857) y [Bernhard Riemann](https://es.wikipedia.org/wiki/Bernhard_Riemann) (1826-1866) le dieron una base [matemática](https://es.wikipedia.org/wiki/Matem%C3%A1tica) firme. "
   ]
  },
  {
   "cell_type": "markdown",
   "metadata": {},
   "source": [
    "## Funciones\n",
    "\n",
    "Las [Funciones](https://es.wikipedia.org/wiki/Funci%C3%B3n_matem%C3%A1tica) son los objetos fundamentales con los que tratamos en el [Cálculo](https://es.wikipedia.org/wiki/C%C3%A1lculo_infinitesimal). Las mismas pueden ser representadas de diferentes maneras: por una [ecuación](https://es.wikipedia.org/wiki/Ecuaci%C3%B3n), en una tabla, por un gráfico, o en palabras. Se utilizan principalmente como modelos matemáticos para representar fenómenos del mundo real.\n",
    "\n",
    "La palabra *[Función](https://es.wikipedia.org/wiki/Funci%C3%B3n_matem%C3%A1tica)* fue introducida en las [Matemáticas](https://es.wikipedia.org/wiki/Matem%C3%A1tica) por [Leibniz](https://es.wikipedia.org/wiki/Gottfried_Leibniz), quien utilizaba este término para designar cierto tipo de fórmulas matemáticas. Una *[Función](https://es.wikipedia.org/wiki/Funci%C3%B3n_matem%C3%A1tica)*  surge cada vez que una cantidad depende de otra. Más precisamente la definición de *[Función](https://es.wikipedia.org/wiki/Funci%C3%B3n_matem%C3%A1tica)* es esencialmente la siguiente: Dados dos conjuntos de objetos, el conjunto X y el conjunto Y, una *[Función](https://es.wikipedia.org/wiki/Funci%C3%B3n_matem%C3%A1tica)* es una regla que asocia a cada objeto de X, uno y sólo un, objeto en Y. El conjunto X se denomina el *dominio* de la *[Función](https://es.wikipedia.org/wiki/Funci%C3%B3n_matem%C3%A1tica)*. Los objetos de Y, asociados con los objetos en X forman otro conjunto denominado el *recorrido* de la *[Función](https://es.wikipedia.org/wiki/Funci%C3%B3n_matem%C3%A1tica)*. Generalmente se utilizan las letras $f, g, h, G$ y $H$ para designarlas. Si $f$ es una función dada y $x$ es un objeto de su dominio, la notación $f(x)$ se\n",
    "utiliza para designar el objeto que en el recorrido corresponde a $x$, en la *[Función](https://es.wikipedia.org/wiki/Funci%C3%B3n_matem%C3%A1tica)* $f$, y se denomina el valor de la función $f$ en $x$. El símbolo $f(x)$ se lee, «f de x». \n",
    "\n",
    "Muchas veces resulta útil pensar en una *[Función](https://es.wikipedia.org/wiki/Funci%C3%B3n_matem%C3%A1tica)* como si fuera una máquina. Si $x$ está en el dominio de la función $f$, entonces cuando $x$ entra en la máquina, se acepta como una entrada y la máquina produce una salida $f(x)$ de acuerdo a la regla de la función. Así, podemos pensar al *dominio* como el conjunto de todas las entradas posibles y al *recorrido* como el conjunto de todas las salidas posibles.\n",
    "\n",
    "El método más común para la visualización de una *[Función](https://es.wikipedia.org/wiki/Funci%C3%B3n_matem%C3%A1tica)* es su [gráfica](https://es.wikipedia.org/wiki/Gr%C3%A1fica_de_una_funci%C3%B3n). Si $f$ es una *[Función](https://es.wikipedia.org/wiki/Funci%C3%B3n_matem%C3%A1tica)* con\n",
    "dominio $D$, a continuación, su [gráfica](https://es.wikipedia.org/wiki/Gr%C3%A1fica_de_una_funci%C3%B3n) es el conjunto de [pares ordenados](https://es.wikipedia.org/wiki/Pares_ordenados). \n",
    "\n",
    "$$\\{(x, f(x)) \\mid x \\in D \\} $$\n",
    "\n",
    "Aquí debemos tener en cuenta que el par $(x, f(x))$, es un par *entrada-salida*, el valor de $x$ representa el valor de entrada, mientras que el valor de $f(x)$ representa la salida de la *[Función](https://es.wikipedia.org/wiki/Funci%C3%B3n_matem%C3%A1tica)*.  En otras palabras, la [gráfica](https://es.wikipedia.org/wiki/Gr%C3%A1fica_de_una_funci%C3%B3n) de $f$ se compone de todos puntos $(x, y)$ en el plano de coordenadas tal que $y=f(x)$ y $x$ está en el *dominio* de $f$.\n",
    "La [gráfica](https://es.wikipedia.org/wiki/Gr%C3%A1fica_de_una_funci%C3%B3n) de una *[Función](https://es.wikipedia.org/wiki/Funci%C3%B3n_matem%C3%A1tica)* $f$ nos da una imagen útil del comportamiento o la \"historia de vida\" de la misma. \n",
    "\n",
    "<img alt=\"Gráfica de funciones\" title=\"Gráfica de funciones\" src=\"http://relopezbriega.github.io/images/funciones_graf.png\n",
    "\" width=\"500px\" height=\"400px\">\n",
    "\n",
    "### Funciones con Python\n",
    "\n",
    "Para definir las [Funciones](https://es.wikipedia.org/wiki/Funci%C3%B3n_matem%C3%A1tica) en [Python](https://www.python.org/) utilizamos la instrucción `def`. Así por ejemplo si quisiéramos definir a la *[Función](https://es.wikipedia.org/wiki/Funci%C3%B3n_matem%C3%A1tica)* $f(x) = \\sqrt{x + 2}$ dentro de [Python](https://www.python.org/), lo podríamos hacer de la siguiente forma:"
   ]
  },
  {
   "cell_type": "code",
   "execution_count": 1,
   "metadata": {
    "collapsed": true
   },
   "outputs": [],
   "source": [
    "import numpy as np  \n",
    "\n",
    "def f(x):\n",
    "    return np.sqrt(x + 2)"
   ]
  },
  {
   "cell_type": "markdown",
   "metadata": {},
   "source": [
    "En este ejemplo, primero estamos importando la librería [numpy](http://www.numpy.org/), para trabajar más fácilmente con [vectores](https://es.wikipedia.org/wiki/Vector_(inform%C3%A1tica), los cuales simplifican los cálculos numéricos.\n",
    "Luego utilizamos la instrucción `def` para definir la función, que este caso se va a llamar f y va a tener como único parámetro al objeto x. Esta función nos va a devolver el valor de la raíz cuadrada de $x + 2$. Ahora, si por ejemplo quisiéramos saber los valores de la función $f(x)$ para los $x, -2, -1, 0, 2, 4$ y $6$. podríamos invocar a esta función de la siguiente manera:"
   ]
  },
  {
   "cell_type": "code",
   "execution_count": 2,
   "metadata": {},
   "outputs": [
    {
     "data": {
      "text/plain": [
       "array([ 0.        ,  1.        ,  1.41421356,  2.        ,  2.44948974,\n",
       "        2.82842712])"
      ]
     },
     "execution_count": 2,
     "metadata": {},
     "output_type": "execute_result"
    }
   ],
   "source": [
    "x = np.array([-2, -1, 0, 2, 4, 6])  # Creando el vector de valores de x\n",
    "y = f(x)\n",
    "y"
   ]
  },
  {
   "cell_type": "markdown",
   "metadata": {},
   "source": [
    "Si quisiéramos verlo en forma de tabla, podemos ayudarnos de la librería [pandas](http://pandas.pydata.org/) y su [estructura de datos](https://es.wikipedia.org/wiki/Estructura_de_datos) [DataFrame](http://pandas.pydata.org/pandas-docs/stable/generated/pandas.DataFrame.html), la cual tiene una forma tabular."
   ]
  },
  {
   "cell_type": "code",
   "execution_count": 3,
   "metadata": {},
   "outputs": [
    {
     "data": {
      "text/html": [
       "<div style=\"max-height:1000px;max-width:1500px;overflow:auto;\">\n",
       "<table border=\"1\" class=\"dataframe\">\n",
       "  <thead>\n",
       "    <tr style=\"text-align: right;\">\n",
       "      <th></th>\n",
       "      <th>x</th>\n",
       "      <th>f(x)</th>\n",
       "    </tr>\n",
       "  </thead>\n",
       "  <tbody>\n",
       "    <tr>\n",
       "      <th>0</th>\n",
       "      <td>-2</td>\n",
       "      <td>0.000000</td>\n",
       "    </tr>\n",
       "    <tr>\n",
       "      <th>1</th>\n",
       "      <td>-1</td>\n",
       "      <td>1.000000</td>\n",
       "    </tr>\n",
       "    <tr>\n",
       "      <th>2</th>\n",
       "      <td>0</td>\n",
       "      <td>1.414214</td>\n",
       "    </tr>\n",
       "    <tr>\n",
       "      <th>3</th>\n",
       "      <td>2</td>\n",
       "      <td>2.000000</td>\n",
       "    </tr>\n",
       "    <tr>\n",
       "      <th>4</th>\n",
       "      <td>4</td>\n",
       "      <td>2.449490</td>\n",
       "    </tr>\n",
       "    <tr>\n",
       "      <th>5</th>\n",
       "      <td>6</td>\n",
       "      <td>2.828427</td>\n",
       "    </tr>\n",
       "  </tbody>\n",
       "</table>\n",
       "</div>"
      ],
      "text/plain": [
       "   x      f(x)\n",
       "0 -2  0.000000\n",
       "1 -1  1.000000\n",
       "2  0  1.414214\n",
       "3  2  2.000000\n",
       "4  4  2.449490\n",
       "5  6  2.828427"
      ]
     },
     "execution_count": 3,
     "metadata": {},
     "output_type": "execute_result"
    }
   ],
   "source": [
    "import pandas as pd\n",
    "\n",
    "tabla = pd.DataFrame( list(zip(x, y)), columns=['x', 'f(x)'] )\n",
    "tabla"
   ]
  },
  {
   "cell_type": "markdown",
   "metadata": {},
   "source": [
    "Por último, si quisiéramos graficar funciones con [Python](https://www.python.org/), podemos utilizar la librería [Matplotlib](http://matplotlib.org/), y pasarle los valores de $x$ e $y$ al método `plot` del objeto `pyplot`."
   ]
  },
  {
   "cell_type": "code",
   "execution_count": 4,
   "metadata": {},
   "outputs": [
    {
     "data": {
      "image/png": "[encoded data removed]",
      "text/plain": [
       "<matplotlib.figure.Figure at 0x7f8788938198>"
      ]
     },
     "metadata": {},
     "output_type": "display_data"
    }
   ],
   "source": [
    "%matplotlib inline\n",
    "\n",
    "import matplotlib.pyplot as plt\n",
    "\n",
    "def move_spines():\n",
    "    \"\"\"Esta funcion divide pone al eje y en el valor \n",
    "    0 de x para dividir claramente los valores positivos y\n",
    "    negativos.\"\"\"\n",
    "    fix, ax = plt.subplots()\n",
    "    for spine in [\"left\", \"bottom\"]:\n",
    "        ax.spines[spine].set_position(\"zero\")\n",
    "    \n",
    "    for spine in [\"right\", \"top\"]:\n",
    "        ax.spines[spine].set_color(\"none\")\n",
    "    \n",
    "    return ax\n",
    "\n",
    "x = np.linspace(-2, 6, num=30)\n",
    "\n",
    "ax = move_spines()\n",
    "ax.grid()\n",
    "ax.plot(x, f(x))\n",
    "plt.title(r\"Grafico de $f(x)=\\sqrt{x + 2}$\")\n",
    "plt.ylabel('f(x)')\n",
    "plt.xlabel('x')\n",
    "plt.show()"
   ]
  },
  {
   "cell_type": "markdown",
   "metadata": {},
   "source": [
    "## Límites\n",
    "\n",
    "Uno de los conceptos más importantes dentro del [Cálculo](https://es.wikipedia.org/wiki/C%C3%A1lculo_infinitesimal) es el concepto de *[Límite](https://es.wikipedia.org/wiki/L%C3%ADmite_matem%C3%A1tico)*. Se dice que una función $f$ tiende hacia el *[Límite](https://es.wikipedia.org/wiki/L%C3%ADmite_matem%C3%A1tico)* $l$ cerca de $a$, si se puede hacer que $f(x)$ este tan próxima como queramos de $l$, haciendo que $x$ esté suficientemente cerca de $a$, pero siendo distinta de $a$. Así por ejemplo si analizamos la función $f(x) = x^2 - x + 2$, para los valores cercanos a 2, podríamos ver los siguientes resultados."
   ]
  },
  {
   "cell_type": "code",
   "execution_count": 5,
   "metadata": {
    "hide_input": false
   },
   "outputs": [
    {
     "data": {
      "text/html": [
       "<div style=\"max-height:1000px;max-width:1500px;overflow:auto;\">\n",
       "<table border=\"1\" class=\"dataframe\">\n",
       "  <thead>\n",
       "    <tr style=\"text-align: right;\">\n",
       "      <th></th>\n",
       "      <th>x</th>\n",
       "      <th>f(x)</th>\n",
       "    </tr>\n",
       "  </thead>\n",
       "  <tbody>\n",
       "    <tr>\n",
       "      <th>0</th>\n",
       "      <td>1.000</td>\n",
       "      <td>2.000000</td>\n",
       "    </tr>\n",
       "    <tr>\n",
       "      <th>1</th>\n",
       "      <td>1.500</td>\n",
       "      <td>2.750000</td>\n",
       "    </tr>\n",
       "    <tr>\n",
       "      <th>2</th>\n",
       "      <td>1.900</td>\n",
       "      <td>3.710000</td>\n",
       "    </tr>\n",
       "    <tr>\n",
       "      <th>3</th>\n",
       "      <td>1.950</td>\n",
       "      <td>3.852500</td>\n",
       "    </tr>\n",
       "    <tr>\n",
       "      <th>4</th>\n",
       "      <td>1.990</td>\n",
       "      <td>3.970100</td>\n",
       "    </tr>\n",
       "    <tr>\n",
       "      <th>5</th>\n",
       "      <td>1.999</td>\n",
       "      <td>3.997001</td>\n",
       "    </tr>\n",
       "    <tr>\n",
       "      <th>6</th>\n",
       "      <td>2.001</td>\n",
       "      <td>4.003001</td>\n",
       "    </tr>\n",
       "    <tr>\n",
       "      <th>7</th>\n",
       "      <td>2.050</td>\n",
       "      <td>4.152500</td>\n",
       "    </tr>\n",
       "    <tr>\n",
       "      <th>8</th>\n",
       "      <td>2.100</td>\n",
       "      <td>4.310000</td>\n",
       "    </tr>\n",
       "    <tr>\n",
       "      <th>9</th>\n",
       "      <td>2.200</td>\n",
       "      <td>4.640000</td>\n",
       "    </tr>\n",
       "    <tr>\n",
       "      <th>10</th>\n",
       "      <td>2.500</td>\n",
       "      <td>5.750000</td>\n",
       "    </tr>\n",
       "    <tr>\n",
       "      <th>11</th>\n",
       "      <td>3.000</td>\n",
       "      <td>8.000000</td>\n",
       "    </tr>\n",
       "  </tbody>\n",
       "</table>\n",
       "</div>"
      ],
      "text/plain": [
       "        x      f(x)\n",
       "0   1.000  2.000000\n",
       "1   1.500  2.750000\n",
       "2   1.900  3.710000\n",
       "3   1.950  3.852500\n",
       "4   1.990  3.970100\n",
       "5   1.999  3.997001\n",
       "6   2.001  4.003001\n",
       "7   2.050  4.152500\n",
       "8   2.100  4.310000\n",
       "9   2.200  4.640000\n",
       "10  2.500  5.750000\n",
       "11  3.000  8.000000"
      ]
     },
     "execution_count": 5,
     "metadata": {},
     "output_type": "execute_result"
    }
   ],
   "source": [
    "# <!-- collapse=True -->\n",
    "def f(x):\n",
    "    return x**2 - x + 2\n",
    "\n",
    "x = np.array([1, 1.5, 1.9, 1.95, 1.99, 1.999, 2.001, 2.05, 2.1, 2.2, 2.5, 3 ])\n",
    "y = f(x)\n",
    "tabla = pd.DataFrame(list(zip(x, y)), columns=['x', 'f(x)'])\n",
    "tabla"
   ]
  },
  {
   "cell_type": "markdown",
   "metadata": {},
   "source": [
    "de acuerdo con esta tabla, podemos ver que a medida que hacemos al valor de $x$ cercano a 2, vemos que $f(x)$ se hace muy cercana a 4. Incluso podríamos hacer a $f(x)$ tan cercana como queramos a 4, haciendo que $x$ este lo suficientemente cerca de 2. Por lo tanto, podemos expresar esta propiedad diciendo que el *\"[Límite](https://es.wikipedia.org/wiki/L%C3%ADmite_matem%C3%A1tico) de la función $f(x) = x^2 - x + 2$ cuando $x$ se acerca a 2 es igual a 4.\"* y lo podemos representar con la siguiente notación:\n",
    "\n",
    "$$\\lim_{x\\to 2} \\left(x^2 -x + 2\\right) = 4$$\n",
    "\n",
    "Gráficamente lo podemos ver del siguiente modo."
   ]
  },
  {
   "cell_type": "code",
   "execution_count": 6,
   "metadata": {
    "hide_input": false
   },
   "outputs": [
    {
     "data": {
      "image/png": "[encoded data removed]",
      "text/plain": [
       "<matplotlib.figure.Figure at 0x7f878452d320>"
      ]
     },
     "metadata": {},
     "output_type": "display_data"
    }
   ],
   "source": [
    "# <!-- collapse=True -->\n",
    "x = np.linspace(-2, 4, num=30)\n",
    "\n",
    "ax = move_spines()\n",
    "ax.grid()\n",
    "ax.plot(x, f(x))\n",
    "ax.scatter(2, 4, label=\"limite cuando x tiende a 2\", color='r')\n",
    "plt.legend()\n",
    "plt.title(r\"Grafico de $f(x)=x^2 -x + 2$\")\n",
    "plt.ylabel('f(x)')\n",
    "plt.xlabel('x')\n",
    "plt.show()"
   ]
  },
  {
   "cell_type": "markdown",
   "metadata": {},
   "source": [
    "### Las leyes de los límites\n",
    "\n",
    "Calcular el valor exacto de los *[Límites](https://es.wikipedia.org/wiki/L%C3%ADmite_matem%C3%A1tico)* muchas veces no suele tan fácil como reemplazar el valor de $a$ en $f(x)$. Es por esto que es importante conocer algunas propiedades de los *[Límites](https://es.wikipedia.org/wiki/L%C3%ADmite_matem%C3%A1tico)*, ellas son:\n",
    "\n",
    "1. **Ley de la suma:** El límite de la suma de dos funciones es la suma de sus límites.\n",
    "2. **Ley de la diferencia:** El límite de la diferencia de dos funciones es la diferencia de sus límites.\n",
    "3. **Ley del producto:** El límite del producto de dos funciones es el producto de sus límites.\n",
    "4. **ley del múltiplo constante:** El límite de una constante por una función es la constante por el límite de la función.\n",
    "5. **Ley del cociente:** El límite del cociente de dos funciones es el cociente de sus límites, siempre que el límite del denominador sea diferente de *cero*.\n",
    "\n",
    "Es decir que si tenemos a la constante $C$ y a los límites $\\lim_{x\\to a} f(x)$ y $\\lim_{x\\to a} g(x)$. Entonces podemos expresar estas propiedades matemáticamente de la siguiente forma:\n",
    "\n",
    "1- **Ley de la suma:** $\\lim_{x\\to a} [f(x) + g(x)] = \\lim_{x\\to a} f(x) + \\lim_{x\\to a} g(x)$.\n",
    "\n",
    "\n",
    "2- **Ley de la diferencia:** $\\lim_{x\\to a} [f(x) - g(x)] = \\lim_{x\\to a} f(x) - \\lim_{x\\to a} g(x)$.\n",
    "\n",
    "\n",
    "3- **Ley del producto:** $\\lim_{x\\to a} [f(x) \\cdot g(x)] = \\lim_{x\\to a} f(x) \\cdot \\lim_{x\\to a} g(x)$.\n",
    "\n",
    "\n",
    "4- **ley del multiplo constante:** $\\lim_{x\\to a} [C \\cdot f(x)] = C \\cdot \\lim_{x\\to a} f(x)$.\n",
    "\n",
    "\n",
    "5- **Ley del cociente:** $\\lim_{x\\to a} \\left[\\frac{f(x)}{g(x)}\\right] = \\frac{\\lim_{x\\to a} f(x)}{\\lim_{x\\to a} g(x)}$, si $\\lim_{x\\to a} g(x) \\ne 0$.\n",
    "\n",
    "\n",
    "### Calculando Límites con Python\n",
    "\n",
    "Con [Python](https://www.python.org/), podemos resolver *[Límites](https://es.wikipedia.org/wiki/L%C3%ADmite_matem%C3%A1tico)* fácilmente utilizando la librería [SymPy](http://www.sympy.org/es/), la cual nos proporciona el objeto `Limit` para representarlos en [Python](https://www.python.org/). Su sintaxis es la siguiente: `Limit(función, variable, punto)`. Entonces para calcular el límite de $f(x)$ cuando $x$ tiende a 0, debemos escribir:\n",
    "\n",
    "`Limit(f(x), x, 0)`\n",
    "\n",
    "Lo utilizamos de la siguiente forma:"
   ]
  },
  {
   "cell_type": "code",
   "execution_count": 7,
   "metadata": {},
   "outputs": [
    {
     "data": {
      "text/latex": [
       "$$\\lim_{x \\to 2^+}\\left(x^{2} - x + 2\\right)$$"
      ],
      "text/plain": [
       "      2        \n",
       " lim x  - x + 2\n",
       "x─→2⁺          "
      ]
     },
     "execution_count": 7,
     "metadata": {},
     "output_type": "execute_result"
    }
   ],
   "source": [
    "from sympy.interactive import printing\n",
    "from sympy import Limit, limit, Symbol, S\n",
    "\n",
    "# imprimir con notación matemática.\n",
    "printing.init_printing(use_latex='mathjax') \n",
    "\n",
    "x = Symbol('x') # Creando el simbolo x.\n",
    "Limit(x**2 - x + 2, x, 2) # Creando el objeto Limit"
   ]
  },
  {
   "cell_type": "code",
   "execution_count": 8,
   "metadata": {},
   "outputs": [
    {
     "data": {
      "text/latex": [
       "$$4$$"
      ],
      "text/plain": [
       "4"
      ]
     },
     "execution_count": 8,
     "metadata": {},
     "output_type": "execute_result"
    }
   ],
   "source": [
    "# Resolviendo el Limite con el metodo doit()\n",
    "Limit(x**2 - x + 2, x, 2).doit()"
   ]
  },
  {
   "cell_type": "code",
   "execution_count": 9,
   "metadata": {},
   "outputs": [
    {
     "data": {
      "text/latex": [
       "$$4$$"
      ],
      "text/plain": [
       "4"
      ]
     },
     "execution_count": 9,
     "metadata": {},
     "output_type": "execute_result"
    }
   ],
   "source": [
    "# La funcion limit nos da directamente el resultado\n",
    "limit(x**2 - x + 2, x, 2)"
   ]
  },
  {
   "cell_type": "code",
   "execution_count": 10,
   "metadata": {},
   "outputs": [
    {
     "data": {
      "text/latex": [
       "$$\\lim_{x \\to \\infty} \\frac{1}{x}$$"
      ],
      "text/plain": [
       "    1\n",
       "lim ─\n",
       "x─→∞x"
      ]
     },
     "execution_count": 10,
     "metadata": {},
     "output_type": "execute_result"
    }
   ],
   "source": [
    "# Resolviendo limite 1/x cuando x tiende a infinito\n",
    "Limit(1/x, x, S.Infinity)"
   ]
  },
  {
   "cell_type": "code",
   "execution_count": 11,
   "metadata": {},
   "outputs": [
    {
     "data": {
      "text/latex": [
       "$$0$$"
      ],
      "text/plain": [
       "0"
      ]
     },
     "execution_count": 11,
     "metadata": {},
     "output_type": "execute_result"
    }
   ],
   "source": [
    "Limit(1/x, x, S.Infinity).doit()"
   ]
  },
  {
   "cell_type": "markdown",
   "metadata": {
    "collapsed": true
   },
   "source": [
    "Como vemos, primero creamos el símbolo para representar a la variable x utilizando el objeto `Symbol`, y luego creamos nuestro límite utilizando el objeto `Limit`. Por último para resolver el límite, simplemente llamamos al método `doit()` sobre el objeto `Limit` que acabamos de crear. También podemos calcular los *[Límites](https://es.wikipedia.org/wiki/L%C3%ADmite_matem%C3%A1tico)* de valores de $x$ que tiendan hacia el [infinito](https://es.wikipedia.org/wiki/Infinito) utilizando la *clase* especial `S.Infinity` que nos proporciona [SymPy](http://www.sympy.org/es/).\n",
    "\n",
    "Ahora que ya conocemos que es una *[Función](https://es.wikipedia.org/wiki/Funci%C3%B3n_matem%C3%A1tica)* y que es un *[Límite](https://es.wikipedia.org/wiki/L%C3%ADmite_matem%C3%A1tico)*, ya estamos en condiciones de adentrarnos en el [Cálculo diferencial](https://es.wikipedia.org/wiki/C%C3%A1lculo_diferencial) y analizar el concepto de [Derivada](https://es.wikipedia.org/wiki/Derivada).\n",
    "\n",
    "## Derivadas\n",
    "\n",
    "Para poder comprender el concepto de *[Derivada](https://es.wikipedia.org/wiki/Derivada)* primero debemos abordar el problema de la *[recta tangente](https://es.wikipedia.org/wiki/Recta_tangente)* a un curva. La palabra <a href=\"https://es.wikipedia.org/wiki/Tangente_(geometr%C3%ADa)\">tangente</a> se deriva de la palabra griega *Tangens*, que significa \"que toca\". Así una *[tangente](https://es.wikipedia.org/wiki/Recta_tangente)* a una curva es una línea que toca la curva. En otras palabras, una línea tangente debe tener la misma dirección que la curva en el punto de contacto. Para un círculo podríamos simplemente seguir la definición de [Euclides](https://es.wikipedia.org/wiki/Euclides) y decir que la <a href=\"https://es.wikipedia.org/wiki/Tangente_(geometr%C3%ADa)\">tangente</a> es una línea que cruza\n",
    "el círculo una y sólo una vez (ver *figura a*). Pero para curvas más complicadas este definición es inadecuada. Por ejemplo en la *figura b* podemos ver  dos líneas $l$ y $t$ que pasan por el punto $P$ en una curva $C$ . La línea $l$ cruza a la curva $C$ sólo una vez, pero ciertamente no se parece a lo que pensamos como una <a href=\"https://es.wikipedia.org/wiki/Tangente_(geometr%C3%ADa)\">tangente</a>. La línea $t$, en cambio, se parece a una <a href=\"https://es.wikipedia.org/wiki/Tangente_(geometr%C3%ADa)\">tangente</a> pero intercepta a $C$ dos veces.\n",
    "\n",
    "<img alt=\"El problema de la tangente\" title=\"El problema de la tangente\" src=\"http://relopezbriega.github.io/images/tangente.png\n",
    "\" width=\"500px\" height=\"400px\">\n",
    "\n",
    "El intento de resolver este problema fue lo que condujo a [Fermat](https://es.wikipedia.org/wiki/Pierre_de_Fermat) a descubrir algunas de las ideas rudimentarias referentes a la noción de *[Derivada](https://es.wikipedia.org/wiki/Derivada)*.\n",
    "Aunque la derivada se introdujo inicialmente para el estudio del problema de la tangente, pronto se vio que proporcionaba también un instrumento para el cálculo de *velocidades* y, en general para el estudio de la *variación o tasa de cambio* de una función.\n",
    "\n",
    "La *[Derivada](https://es.wikipedia.org/wiki/Derivada)* de una función es una medida de la rapidez con la que cambia el valor de dicha función, según cambie el valor de su [variable independiente](https://es.wikipedia.org/wiki/Variable_independiente). La *[Derivada](https://es.wikipedia.org/wiki/Derivada)* de una función es un concepto local, es decir, se calcula como el *[límite](https://es.wikipedia.org/wiki/L%C3%ADmite_matem%C3%A1tico)* de la rapidez de cambio medio de la función en un cierto intervalo, cuando el intervalo considerado para la variable independiente se torna cada vez más pequeño. Por ello se habla del valor de la derivada de una cierta función en un punto dado.\n",
    "Entonces el valor de la *[Derivada](https://es.wikipedia.org/wiki/Derivada)* de una función en un punto puede interpretarse geométricamente, ya que se corresponde con la **pendiente de la *[recta tangente](https://es.wikipedia.org/wiki/Recta_tangente)*** a la gráfica de la función en dicho punto. La *[recta tangente](https://es.wikipedia.org/wiki/Recta_tangente)* es a su vez la gráfica de la mejor aproximación lineal de la función alrededor de dicho punto. La noción de *[Derivada](https://es.wikipedia.org/wiki/Derivada)* puede generalizarse para el caso de funciones de más de una variable con la [derivada parcial](https://es.wikipedia.org/wiki/Derivada_parcial) y el [diferencial](https://es.wikipedia.org/wiki/Diferencial_de_una_funci%C3%B3n).\n",
    "\n",
    "Matemáticamente, la *[Derivada](https://es.wikipedia.org/wiki/Derivada)* es una caso especial de *[Límite](https://es.wikipedia.org/wiki/L%C3%ADmite_matem%C3%A1tico)*, el cual surge cada vez que queremos calcular la pendiente de la *[recta tangente](https://es.wikipedia.org/wiki/Recta_tangente)* o la *velocidad de cambio* de un objeto. Éste *[Límite](https://es.wikipedia.org/wiki/L%C3%ADmite_matem%C3%A1tico)* ocurre tan frecuentemente que se le ha da un notación y un nombre determinados. Así **la *[Derivada](https://es.wikipedia.org/wiki/Derivada)* de una función $f$ en el punto a**, representada por $f'(a)$, es:\n",
    "\n",
    "$$f'(a) = \\lim_{h \\to 0}\\frac{f(a + h) - f(a)}{h}$$\n",
    "\n",
    "donde $h$ representa la variación de $a$.\n",
    "Esta misma definición, puede ser representada también del siguiente modo, utilizando la notación de [Leibniz](https://es.wikipedia.org/wiki/Gottfried_Leibniz).\n",
    "\n",
    "$$\\frac{dy}{dx} = \\lim_{dx \\to 0}\\frac{f(x + dx) - f(x)}{dx}$$\n",
    "\n",
    "Así, por ejemplo si quisiéramos saber cuál es la *[Derivada](https://es.wikipedia.org/wiki/Derivada)* de la función $f(x) = x^3$, podemos aplicar la definición anterior del siguiente modo.\n",
    "\n",
    "Comenzamos, definiendo a $f(x + dx) = (x + dx)^3$, luego expandimos a:\n",
    "\n",
    "$$(x + dx)^3 = f(x + dx) = x^3 + 3x^2dx + 3xdx^2 + dx^3$$\n",
    "\n",
    "Luego reemplazamos esta función en nuestra definición de *[Derivada](https://es.wikipedia.org/wiki/Derivada)*:\n",
    "\n",
    "$$\\frac{dx}{dy} = \\frac{x^3 + 3x^2dx + 3xdx^2 + dx^3 - x^3}{dx}$$\n",
    "\n",
    "Simplificamos los términos:\n",
    "\n",
    "$$\\frac{dx}{dy} = \\frac{3x^2dx + 3xdx^2 + dx^3}{dx} \\Rightarrow 3x^2 + 3xdx + dx^2$$\n",
    "\n",
    "y cuando $dx$ tiende a cero, obtenemos finalmente la función *[Derivada](https://es.wikipedia.org/wiki/Derivada)*:\n",
    "\n",
    "$$\\frac{d}{dx}x^3 = 3x^2$$\n",
    "\n",
    "### Reglas de Derivación\n",
    "\n",
    "Si fuera siempre necesario calcular las *[Derivadas](https://es.wikipedia.org/wiki/Derivada)* directamente de la definición, como hicimos anteriormente, éstos cálculos podrían ser tediosos y complicados. Afortunadamente, varias reglas se han desarrollado para encontrar *[Derivadas](https://es.wikipedia.org/wiki/Derivada)* sin tener que usar la definición directamente. Estas fórmulas simplifican enormemente la tarea de la diferenciación y se conocen como [reglas de derivación](https://es.wikipedia.org/wiki/Reglas_de_derivaci%C3%B3n). Algunas de ellas son las siguientes:\n",
    "\n",
    "| Funciones comunes      | Función original    | Función Derivada            |\n",
    "|:-----------------------|:-------------------:|:---------------------------:|\n",
    "|Constantes              |$c$                  |0                            |\n",
    "|                        |$x$                  |1                            |\n",
    "|Cuadrado                |$x^2$                |$2x$                         |\n",
    "|Raiz cuadrada           |$\\sqrt{x}$           |$\\frac{1}{2}x^{-\\frac{1}{2}}$|\n",
    "|Exponenciales           |$e^x$                |$e^x$                        |\n",
    "|                        |$a^x$                |$a^x(\\ln a)$                 |\n",
    "|Logaritmicas            |$\\ln x$              |$\\frac{1}{x}$                |\n",
    "|                        |$\\log_{a} x$         |$\\frac{1}{x \\ln a}$          |\n",
    "|Trigonométricas         |$\\sin x$             |$\\cos x$                     |\n",
    "|                        |$\\cos x$             |$-\\sin x$                    |\n",
    "|                        |$\\tan x$             |$\\sec^2(x)$                  |\n",
    "|Trigonométricas inversas|$\\sin^{-1}(x)$       |$\\frac{1}{\\sqrt{1-x^2}}$     |\n",
    "|                        |$\\cos^{-1}(x)$       |$\\frac{-1}{\\sqrt{1-x^2}}$    |\n",
    "|                        |$\\tan^{-1}(x)$       |$\\frac{1}{1-x^2}$            | \n",
    "\n",
    "1- **Regla de la función de grado n:** Esta regla nos dice que una función de grado n, donde n es un exponente real, se representa por $f(x)=x^{n}$ y su derivada es $f'(x)=nx^{n-1}$. Así por ejemplo, si quisiéramos saber la derivada de $f(x) = x^5$, aplicando la regla obtenemos, $f'(x) = 5x^{5-1} \\Rightarrow 5x^4$.\n",
    "\n",
    "\n",
    "2- **Regla de la multiplicación por una constante:** Esta regla establece que una función con la forma $f(x) = Cx$, donde $C$ es una constante; entonces la derivada de esta función va a ser igual a: $f'(x)= Cx'$; es decir a la constante por la derivada de $x$. Así por ejemplo si tenemos la función $f(x)=5x^3$, primero debemos a obtener la derivada de $x^3$, la cual aplicando la regla anterior sabemos que es $3x^2$ y luego a esta derivada la multiplicamos por la constante 5, para obtener el resultado final $f'(x)=15x^2$.\n",
    "\n",
    "\n",
    "3- **Regla de la suma:** Esta regla establece que la derivada de la suma de dos funciones es igual a la suma de las derivadas de cada una de ellas. Es decir, $(f+g)'(x)=f'(x)+g'(x)$. Así por ejemplo la derivada de la función $f(x) = 5x^3 + x^2$ va a ser igual a $f'(x) = 15x^2 + 2x$.\n",
    "\n",
    "4- **Regla de la diferencia:** Esta regla establece que la derivada de la diferencia entre dos funciones es igual a la diferencia entre las derivadas de cada una de ellas. Es decir, $(f-g)'(x)=f'(x)-g'(x)$. Así por ejemplo la derivada de la función $f(x) = 5x^3 - x^2$ va a ser igual a $f'(x) = 15x^2 - 2x$.\n",
    "\n",
    "5- **Regla del producto:** Esta regla establece que la derivada de un producto de dos funciones es equivalente a la suma entre el producto de la primera función sin derivar y la derivada de la segunda función y el producto de la derivada de la primera función por la segunda función sin derivar. Es decir,  $(f\\cdot g)' = f'\\cdot g + f\\cdot g'$. Así por ejemplo si quisiéramos derivar la función $h(x)=(2x + 1)(x^3 + 2)$, primero obtenemos las derivadas de cada termino, $f'(x)=2$ y $g'(x)=3x^2$ y luego aplicamos la formula $h'(x)=2(x^3 +2) + (2x + 1)3x^2$, los que nos da un resultado final de $h'(x)=8x^3 + 3x^2 + 4$.\n",
    "\n",
    "\n",
    "6- **Regla del cociente:** Esta regla establece que la derivada de un cociente de dos funciones es la función ubicada en el denominador por la derivada del numerador menos la derivada de la función en el denominador por la función del numerador sin derivar, todo sobre la función del denominador al cuadrado. Es decir, $\\left(\\frac{f}{g}\\right)'=\\frac{f'g-fg'}{g^{2}}$. Por ejemplo, para obtener la derivada de la función $h(x) = \\frac{3x + 1}{2x}$, aplicando la formula obtenemos que $h'(x) = \\frac{3 \\cdot (2x) - (3x + 1) \\cdot 2}{2x^2}$, y simplificando llegamos al resultado final de $h'(x) = -\\frac{1}{2x^2}$.\n",
    "\n",
    "7- **Regla de la cadena:** La regla de la cadena es una fórmula para calcular la derivada de la composición de dos o más funciones. Esto es, si $f$ y $g$ son dos funciones, entonces la regla de la cadena expresa la derivada de la función compuesta $f(g(x))$ en términos de las derivadas de $f$ y $g$. Esta derivada va a ser calculada de acuerdo a la siguiente formula: $f'(g(x)) = f'(g(x)) \\cdot g'(x)$. Por ejemplo, si quisiéramos saber la derivada de la función $h(x) = \\sin(x^2)$, aplicando la formula obtenemos que $h'(x) = \\cos(g(x)) \\cdot 2x$, lo que es igual a $h'(x) = 2x \\cos(x^2)$.\n",
    "\n",
    "### Derivadas de mayor orden\n",
    "\n",
    "Si tenemos una función $f$, de la cual podemos obtener su derivada $f'$, la cual también es otra función que podemos derivar, entonces podemos obtener la *derivada de segundo orden* de $f$, la cual representaremos como $f''$. Es decir, que la derivada de segundo orden de $f$, va a ser igual a la derivada de su derivada. Siguiendo el mismo proceso, podemos seguir subiendo en la jerarquía y obtener por ejemplo, la tercer derivada de $f$. Utilizando la notación de [Leibniz](https://es.wikipedia.org/wiki/Gottfried_Leibniz), expresaríamos a la segunda derivada del siguiente modo:\n",
    "\n",
    "$$\\frac{d}{dy}\\left(\\frac{dy}{dx}\\right)= \\frac{d^2y}{dx^2}$$\n",
    "\n",
    "### Calculando Derivadas con Python\n",
    "\n",
    "Con [Python](https://www.python.org/), podemos resolver *[Derivadas](https://es.wikipedia.org/wiki/Derivada)* utilizando nuevamente la librería [SymPy](http://www.sympy.org/es/). En este caso, ahora vamos a utilizar el objeto `Derivative`. Su sintaxis es la siguiente: `Derivative(funcion, variable, orden de derivación)`. Lo utilizamos de la siguiente forma:"
   ]
  },
  {
   "cell_type": "code",
   "execution_count": 12,
   "metadata": {},
   "outputs": [
    {
     "data": {
      "text/latex": [
       "$$2 x^{3} + 3 x^{2} \\left(2 x + 1\\right) + 4$$"
      ],
      "text/plain": [
       "   3      2              \n",
       "2⋅x  + 3⋅x ⋅(2⋅x + 1) + 4"
      ]
     },
     "execution_count": 12,
     "metadata": {},
     "output_type": "execute_result"
    }
   ],
   "source": [
    "from sympy import Derivative, diff, simplify\n",
    "\n",
    "fx = (2*x + 1)*(x**3 + 2)\n",
    "dx = Derivative(fx, x).doit()\n",
    "dx"
   ]
  },
  {
   "cell_type": "code",
   "execution_count": 13,
   "metadata": {},
   "outputs": [
    {
     "data": {
      "text/latex": [
       "$$8 x^{3} + 3 x^{2} + 4$$"
      ],
      "text/plain": [
       "   3      2    \n",
       "8⋅x  + 3⋅x  + 4"
      ]
     },
     "execution_count": 13,
     "metadata": {},
     "output_type": "execute_result"
    }
   ],
   "source": [
    "# simplificando los resultados\n",
    "simplify(dx)"
   ]
  },
  {
   "cell_type": "code",
   "execution_count": 14,
   "metadata": {},
   "outputs": [
    {
     "data": {
      "text/latex": [
       "$$6 x \\left(4 x + 1\\right)$$"
      ],
      "text/plain": [
       "6⋅x⋅(4⋅x + 1)"
      ]
     },
     "execution_count": 14,
     "metadata": {},
     "output_type": "execute_result"
    }
   ],
   "source": [
    "# Derivada de segundo orden con el 3er argumento.\n",
    "Derivative(fx, x, 2).doit()"
   ]
  },
  {
   "cell_type": "code",
   "execution_count": 15,
   "metadata": {},
   "outputs": [
    {
     "data": {
      "text/latex": [
       "$$- \\frac{1}{2 x^{2}}$$"
      ],
      "text/plain": [
       "-1  \n",
       "────\n",
       "   2\n",
       "2⋅x "
      ]
     },
     "execution_count": 15,
     "metadata": {},
     "output_type": "execute_result"
    }
   ],
   "source": [
    "# Calculando derivada de (3x +1) / (2x)\n",
    "fx = (3*x + 1) / (2*x)\n",
    "dx = Derivative(fx, x).doit()\n",
    "simplify(dx)"
   ]
  },
  {
   "cell_type": "code",
   "execution_count": 16,
   "metadata": {},
   "outputs": [
    {
     "data": {
      "text/latex": [
       "$$- \\frac{1}{2 x^{2}}$$"
      ],
      "text/plain": [
       "-1  \n",
       "────\n",
       "   2\n",
       "2⋅x "
      ]
     },
     "execution_count": 16,
     "metadata": {},
     "output_type": "execute_result"
    }
   ],
   "source": [
    "# la función diff nos da directamente el resultado\n",
    "simplify(diff(fx, x))"
   ]
  },
  {
   "cell_type": "code",
   "execution_count": 17,
   "metadata": {},
   "outputs": [
    {
     "data": {
      "text/latex": [
       "$$- \\frac{1}{2}$$"
      ],
      "text/plain": [
       "-1/2"
      ]
     },
     "execution_count": 17,
     "metadata": {},
     "output_type": "execute_result"
    }
   ],
   "source": [
    "# con el metodo subs sustituimos el valor de x \n",
    "# para obtener el resultado numérico. Ej x = 1.\n",
    "diff(fx, x).subs(x, 1)"
   ]
  },
  {
   "cell_type": "markdown",
   "metadata": {},
   "source": [
    "Como podemos ver, el método para calcular las *[Derivadas](https://es.wikipedia.org/wiki/Derivada)* con [Python](https://www.python.org/), es muy similar al que vimos anteriormente al calcular los *[Límites](https://es.wikipedia.org/wiki/L%C3%ADmite_matem%C3%A1tico)*. En el ejemplo, también utilizamos la función `simplify`, la cual nos ayuda a simplificar los resultados; y el método `subs` para sustituir el valor de $x$ y obtener el resultado numérico.\n",
    "\n",
    "\n",
    "Ahora que ya conocemos al [Cálculo diferencial](https://es.wikipedia.org/wiki/C%C3%A1lculo_diferencial), es tiempo de pasar hacia la otra rama del [Cálculo](https://es.wikipedia.org/wiki/C%C3%A1lculo_infinitesimal), el [Cálculo integral](https://es.wikipedia.org/wiki/Integraci%C3%B3n), y analizar el concepto de [Integración](https://es.wikipedia.org/wiki/Integraci%C3%B3n)."
   ]
  },
  {
   "cell_type": "markdown",
   "metadata": {},
   "source": [
    "## Integrales\n",
    "\n",
    "La idea de *[Integral](https://es.wikipedia.org/wiki/Integraci%C3%B3n)* es el concepto básico del [Cálculo integral](https://es.wikipedia.org/wiki/Integraci%C3%B3n). Pero para poder comprender este concepto, primero debemos abordar el *problema del [área](https://es.wikipedia.org/wiki/%C3%81rea)*. Como bien sabemos, el [área](https://es.wikipedia.org/wiki/%C3%81rea) es una medida de la extensión de una superficie. Determinar esta medida para superficies con [líneas rectas](https://es.wikipedia.org/wiki/Recta), suele ser bastante fácil. Por ejemplo para un rectángulo, su [área](https://es.wikipedia.org/wiki/%C3%81rea) se define como el producto de la longitud y el ancho. O para un triángulo como la mitad de la base por la altura. El [área](https://es.wikipedia.org/wiki/%C3%81rea) de cualquier otro polígono se encuentra al dividirlo en triángulos y luego sumar las áreas de cada uno ellos. Pero para los casos de las regiones con [líneas curvas](https://es.wikipedia.org/wiki/Curva), el cálculo del [área](https://es.wikipedia.org/wiki/%C3%81rea) ya no suele ser tan fácil. Para estos casos debemos recurrir a un método similar al de [exhaución](https://es.wikipedia.org/wiki/M%C3%A9todo_exhaustivo) que mencionábamos en la introducción del artículo. Es decir,  que vamos a ir dividiendo la región en varios rectángulos de $\\Delta x$ de ancho y luego podemos ir calculando el [área](https://es.wikipedia.org/wiki/%C3%81rea) como la suma del las [áreas](https://es.wikipedia.org/wiki/%C3%81rea) de cada uno de estos rectángulos. A medida que vamos agregando más rectángulos, haciendo $\\Delta x$ cada vez más pequeño, nos vamos aproximando cada vez más al valor real del [área](https://es.wikipedia.org/wiki/%C3%81rea) de la superficie curva. Hasta el punto de que, cuando $\\Delta x$ tiende a cero, podemos alcanzar el resultado exacto del [área](https://es.wikipedia.org/wiki/%C3%81rea) de nuestra superficie curva. Es decir, que realizando una suma de infinitamente más angostos rectángulos, podemos determinar el resultado exacto del [área](https://es.wikipedia.org/wiki/%C3%81rea) de nuestra superficie curva. Este proceso lo podemos ver más claramente en la siguiente figura.\n",
    "\n",
    "<img alt=\"Proceso de integración\" title=\"Proceso de integración\" src=\"http://relopezbriega.github.io/images/proceso_integración.png\" width=\"500px\" height=\"400px\">\n",
    "\n",
    "Como vemos, al igual que pasaba con el caso de las *[Derivadas](https://es.wikipedia.org/wiki/Derivada)*, al querer calcular el [área](https://es.wikipedia.org/wiki/%C3%81rea) de una superficie curva, nos encontramos ante un caso especial de *[Límite](https://es.wikipedia.org/wiki/L%C3%ADmite_matem%C3%A1tico)* (aquí vemos también por qué el concepto de *[Límite](https://es.wikipedia.org/wiki/L%C3%ADmite_matem%C3%A1tico)* es tan importante para el [Cálculo](https://es.wikipedia.org/wiki/C%C3%A1lculo_infinitesimal)!). Este tipo de *[Límite](https://es.wikipedia.org/wiki/L%C3%ADmite_matem%C3%A1tico)* surge en una amplia variedad de situaciones, no solo al calcular [áreas](https://es.wikipedia.org/wiki/%C3%81rea), sino que también lo podemos encontrar al calcular la distancia recorrida por un objeto o el volumen de un sólido. Por lo tanto, se le ha dado una notación y un nombre determinado. De esta forma la definición matemática de la *[Integral](https://es.wikipedia.org/wiki/Integraci%C3%B3n)* definida, sería la siguiente: \n",
    "\n",
    "Si $f$ es una función definida por $a \\leqslant x \\leqslant b$, podemos dividir el intervalo $[a, b]$ en $n$ subintervalos de $\\Delta x(b - a) / n$ de ancho. Dónde $x_0(=a), x_1, x_2, \\dots, x_n(=b)$ serán los puntos finales de estos subintervalos y $x_1^*, x_2^*, \\dots, x_n^*$, serán puntos intermedios en estos subintervalos, de tal forma que $x_i^*$ se encuentre en el k-simo subintervalo $[x_{i-1}, x_i]$. Entonces la *[Integral](https://es.wikipedia.org/wiki/Integraci%C3%B3n)* definida de $f$ entre $a$ y $b$, es:\n",
    "\n",
    "$$\\int_a^b f(x) dx = \\lim_{n \\to \\infty}\\sum_{i=1}^n f(x_i^*) \\Delta x $$\n",
    "\n",
    "El símbolo de la *[Integral](https://es.wikipedia.org/wiki/Integraci%C3%B3n)*, $\\int$, fue introducido por [Leibniz](https://es.wikipedia.org/wiki/Gottfried_Leibniz), viene a ser una \"S\" alargada y fue elegido ya que la *[Integral](https://es.wikipedia.org/wiki/Integraci%C3%B3n)* es en definitiva un *[Límite](https://es.wikipedia.org/wiki/L%C3%ADmite_matem%C3%A1tico)* de sumas [infinitesimales](https://es.wikipedia.org/wiki/Infinitesimal). En esta notación, $a$ y $b$ son los límites de la integración y $dx$ indica que $x$ es la variable independiente. La suma:\n",
    "\n",
    "$$\\sum_{i=1}^n f(x_i^*) \\Delta x $$\n",
    "\n",
    "que vemos en la definición, es conocida como la *[suma de Reimann](https://es.wikipedia.org/wiki/Integraci%C3%B3n_de_Riemann#Suma_de_Riemann)*, en honor al matemático alemán [Bernhard Reimann](https://es.wikipedia.org/wiki/Bernhard_Riemann) que la desarrolló.\n",
    "\n",
    "<img alt=\"Integral definida\" title=\"Integral definida\" src=\"http://relopezbriega.github.io/images/integracion.png\" width=\"500px\" height=\"400px\">\n",
    "\n",
    "\n",
    "### Integrales definidas e indefinidas\n",
    "\n",
    "Una distinción importante que debemos hacer al hablar de *[Integrales](https://es.wikipedia.org/wiki/Integraci%C3%B3n)*, es la diferencia entre una [Integral definida](https://es.wikipedia.org/wiki/Integraci%C3%B3n) y una [integral indefinida](https://es.wikipedia.org/wiki/Integraci%C3%B3n_indefinida) o [antiderivada](https://es.wikipedia.org/wiki/Integraci%C3%B3n_indefinida). Mientras que la [Integral definida](https://es.wikipedia.org/wiki/Integraci%C3%B3n), que representamos con el símbolo, $\\int_a^b f(x) dx$,  es un *número*, un resultado preciso de la medida de un [área](https://es.wikipedia.org/wiki/%C3%81rea), distancia o volumen; la [integral indefinida](https://es.wikipedia.org/wiki/Integraci%C3%B3n_indefinida), que representamos como, $\\int f(x) dx$,  es una *función* o familia de funciones. Más adelante, cuando hablemos del [teorema fundamental del cálculo](https://es.wikipedia.org/wiki/Teorema_fundamental_del_c%C3%A1lculo), veremos por qué esta distinción es tan importante. Pero antes, veamos como podemos hacer para calcular *[Integrales](https://es.wikipedia.org/wiki/Integraci%C3%B3n)*. \n",
    "\n",
    "### Reglas de integración\n",
    "\n",
    "Cómo podemos ver de la definición que dimos de *[Integrales](https://es.wikipedia.org/wiki/Integraci%C3%B3n)*, estas parecen sumamente complicadas de calcular. Por suerte, al igual que para el caso de *[Derivadas](https://es.wikipedia.org/wiki/Derivada)*, existen varias reglas que podemos utilizar para poder calcular las [integrales indefinidas](https://es.wikipedia.org/wiki/Integraci%C3%B3n_indefinida), en forma más sencilla. Algunas de ellas son:\n",
    "\n",
    "| Funciones comunes      | Función original                    |Integral indefinida ($C$ es una constante)|\n",
    "|:-----------------------|:-----------------------------------:|:---------------------------:|\n",
    "|Constante               |$\\int a \\ dx$                        |$ax + C$                     |\n",
    "|Variable                |$\\int x \\ dx$                        |$\\frac{x^2}{2} + C$          |\n",
    "|Cuadrado                |$\\int x^2 \\ dx$                      |$\\frac{x^3}{3} + C$          |\n",
    "|Reciproca               |$\\int \\left(\\frac{1}{x}\\right) \\ dx$ |$\\ln (x) + C                $|\n",
    "|Exponenciales           |$\\int e^x \\ dx      $                |$e^x + C$                    |\n",
    "|                        |$\\int a^x \\ dx$                      |$\\frac{a^x}{\\ln (a)} + C$    |\n",
    "|                        |$\\int \\ln (x) \\ dx$                  |$x \\ \\ln(x) - x + C$         |\n",
    "|Trigonométricas         |$\\int \\sin (x) \\ dx$                 |$- \\cos (x) + C$             |\n",
    "|                        |$\\int \\cos (x) \\ dx$                 |$\\sin (x) + C$               |\n",
    "|                        |$\\int \\sec^2(x) \\ dx$                |$\\tan(x) + C$                |\n",
    "\n",
    "\n",
    "1- **Regla de la función de grado n:** Esta regla nos dice que una función de grado n, donde n es un exponente real distinto de -1, se representa por $f(x)=x^{n}$ y su integral es $\\int x^{n} \\ dx = \\frac{x^{n + 1}}{n + 1} + C$. Así por ejemplo, si quisiéramos saber la integral de $f(x) = x^3$, aplicando la regla obtenemos, $\\int x^3 \\ dx = \\frac{x^4}{4} + C$.\n",
    "\n",
    "\n",
    "2- **Regla de la multiplicación por una constante:** Esta regla establece que una función con la forma $f(x) = Cx$, donde $C$ es una constante; entonces la integral de esta función va a ser igual a: $\\int Cx \\ dx = C\\int x \\ dx$; es decir a la constante por la integral de $x$. Así por ejemplo si tenemos la función $f(x)=4x^3$, primero debemos a obtener la integral de $x^3$, la cual aplicando la regla anterior sabemos que es $\\int x^3 \\ dx = \\frac{x^4}{4} + C $ y luego a esta integral la multiplicamos por la constante 4, para obtener el resultado final $\\int 4 x^3 \\ dx = x^4 + C$.\n",
    "\n",
    "\n",
    "3- **Regla de la suma:** Esta regla establece que la integral de la suma de dos funciones es igual a la suma de las integrales de cada una de ellas. Es decir, $\\int (f + g) \\ dx = \\int f \\ dx + \\int g \\ dx$. Así por ejemplo la integral de la función $f(x) = 4x^3 + x^2$ va a ser igual a $\\int (4x^3 + x^2) \\ dx = x^4 + \\frac{x^3}{3} + C$.\n",
    "\n",
    "4- **Regla de la diferencia:** Esta regla establece que la integral de la diferencia entre dos funciones es igual a la diferencia entre las integrales de cada una de ellas. Es decir, $\\int (f - g) \\ dx = \\int f \\ dx - \\int g \\ dx$. Así por ejemplo la integral de la función $f(x) = 4x^3 - x^2$ va a ser igual a $\\int (4x^3 - x^2) \\ dx = x^4 - \\frac{x^3}{3} + C$.\n",
    "\n",
    "En todos estos ejemplos, podemos ver la aparición de una misteriosa constante $C$, esta es la que se conoce como [constante de integración](https://es.wikipedia.org/wiki/Constante_de_integraci%C3%B3n). Esta constante expresa una ambigüedad inherente a la construcción de las integrales. Es por esta ambigüedad que cuando hablamos de la [integral indefinida](https://es.wikipedia.org/wiki/Integraci%C3%B3n_indefinida) decimos que expresa una familia de funciones $f(x) + C$.\n",
    "\n",
    "### Teorema fundamental del Cálculo\n",
    "\n",
    "El [teorema fundamental del cálculo](https://es.wikipedia.org/wiki/Teorema_fundamental_del_c%C3%A1lculo) establece una conexión entre las dos ramas del [Cálculo](https://es.wikipedia.org/wiki/C%C3%A1lculo_infinitesimal): el [Cálculo diferencial](https://es.wikipedia.org/wiki/C%C3%A1lculo_diferencial) y el [Cálculo integral](https://es.wikipedia.org/wiki/Integraci%C3%B3n). Como ya hemos visto, el [Cálculo diferencial](https://es.wikipedia.org/wiki/C%C3%A1lculo_diferencial) surgió del problema de la *[tangente](https://es.wikipedia.org/wiki/Recta_tangente)* , mientras que el [Cálculo integral](https://es.wikipedia.org/wiki/Integraci%C3%B3n) surgió de un problema aparentemente sin relación con este, el problema del  *[área](https://es.wikipedia.org/wiki/%C3%81rea)*. Fue [Isaac Barrow](https://es.wikipedia.org/wiki/Isaac_Barrow), quien descubrió que estos dos problemas están en realidad estrechamente relacionados.\n",
    "De hecho, se dio cuenta de que la [derivación](https://es.wikipedia.org/wiki/Derivada) y la [integración](https://es.wikipedia.org/wiki/Integraci%C3%B3n) son procesos inversos. El [teorema fundamental del cálculo](https://es.wikipedia.org/wiki/Teorema_fundamental_del_c%C3%A1lculo) nos da la relación inversa precisa entre la   *[Derivada](https://es.wikipedia.org/wiki/Derivada)* y la *[Integral](https://es.wikipedia.org/wiki/Integraci%C3%B3n)*. Fueron [Newton](https://es.wikipedia.org/wiki/Isaac_Newton) y [Leibniz](https://es.wikipedia.org/wiki/Gottfried_Leibniz) quienes aprovecharon esta relación y la utilizaron para\n",
    "desarrollar el [Cálculo](https://es.wikipedia.org/wiki/C%C3%A1lculo_infinitesimal). En particular, vieron que esta relación les permitía calcular *[áreas](https://es.wikipedia.org/wiki/%C3%81rea)* e  *[Integrales](https://es.wikipedia.org/wiki/Integraci%C3%B3n)* con mucha facilidad y sin tener que calcularlas como límites de sumas. Es decir, que si tomamos una función $f$, y obtenemos primero su *[Derivada](https://es.wikipedia.org/wiki/Derivada)*, y luego calculamos la *[Integral](https://es.wikipedia.org/wiki/Integraci%C3%B3n)* sobre esta función *[Derivada](https://es.wikipedia.org/wiki/Derivada)* $f'(x)$. Obtenemos nuevamente función original $f$. Lo que una hace, la otra lo deshace. El [teorema fundamental del cálculo](https://es.wikipedia.org/wiki/Teorema_fundamental_del_c%C3%A1lculo) es sin duda el teorema más importante en el [Cálculo](https://es.wikipedia.org/wiki/C%C3%A1lculo_infinitesimal) y, de hecho, se ubica como uno de los grandes logros de la mente humana. Matemáticamente, este teorema se suele dividir en dos partes y nos dice lo siguiente:\n",
    "\n",
    "**Teorema fundamental del Calculo, parte 1.** si $f$ es una función continua en el intervalo $[a, b]$, entonces la función $g$ definida como:\n",
    "\n",
    "$$g(x) = \\int_a^x f(t) dt \\qquad a \\leqslant x \\leqslant b $$\n",
    "\n",
    "es continua en el intervalo $[a, b]$ y [diferenciable](https://es.wikipedia.org/wiki/Derivada) en $(a, b)$, y $g'(x) = f(x)$.\n",
    "\n",
    "**Teorema fundamental del Calculo, parte 2.** si $f$ es una función continua en el intervalo $[a, b]$, entonces:\n",
    "\n",
    "$$\\int_a^b f(x) dx = F(b) - F(a) $$\n",
    "\n",
    "en donde $F$ es la [antiderivada](https://es.wikipedia.org/wiki/Integraci%C3%B3n_indefinida) de $f$, o sea, una función tal que F' = f.\n",
    "\n",
    "En definitiva, lo que nos dice la primera parte es que las operaciones de [derivación](https://es.wikipedia.org/wiki/Derivada) y de [integración](https://es.wikipedia.org/wiki/Integraci%C3%B3n) son operaciones inversas. La segunda parte nos proporciona un método para calcular [integrales definidas](https://es.wikipedia.org/wiki/Integraci%C3%B3n), en base a la [antiderivada](https://es.wikipedia.org/wiki/Integraci%C3%B3n_indefinida) o [integral indefinida](https://es.wikipedia.org/wiki/Integraci%C3%B3n_indefinida).\n",
    "\n",
    "Así, por ejemplo, si quisiéramos calcular la *[Integral](https://es.wikipedia.org/wiki/Integraci%C3%B3n)*:\n",
    "\n",
    "$$\\int_0^3 (x^3 - 6x) dx$$\n",
    "\n",
    "primero obtenemos su [integral indefinida](https://es.wikipedia.org/wiki/Integraci%C3%B3n_indefinida).\n",
    "\n",
    "$$\\int (x^3 - 6x) dx = \\frac{x^4}{4} - 6\\frac{x^2}{2}$$\n",
    "\n",
    "y por último aplicamos la segunda parte del [teorema fundamental del cálculo](https://es.wikipedia.org/wiki/Teorema_fundamental_del_c%C3%A1lculo) para obtener la [integral definida](https://es.wikipedia.org/wiki/Integraci%C3%B3n) en $[0, 3]$, reemplazando estos valores en la [integral indefinida](https://es.wikipedia.org/wiki/Integraci%C3%B3n_indefinida) que acabamos de obtener.\n",
    "\n",
    "$$\\int_0^3 (x^3 - 6x) dx = \\left(\\frac{1}{4} \\cdot 3^4 - 3 \\cdot 3^2 \\right) - \\left(\\frac{1}{4} \\cdot 0^4 - 3 \\cdot 0^2 \\right) = -\\frac{27}{4}$$\n",
    "\n",
    "\n",
    "### Calculando Integrales con Python\n",
    "\n",
    "Con [Python](https://www.python.org/), podemos resolver *[Integrales](https://es.wikipedia.org/wiki/Integraci%C3%B3n)* con la ayuda de la, en este punto ya invaluable, librería [SymPy](http://www.sympy.org/es/). En este caso, vamos a utilizar el objeto `Integral`. Su sintaxis es la siguiente: `Integral(funcion, variable)`. Lo utilizamos de la siguiente forma:"
   ]
  },
  {
   "cell_type": "code",
   "execution_count": 18,
   "metadata": {
    "hide_input": false
   },
   "outputs": [
    {
     "data": {
      "text/latex": [
       "$$\\frac{x^{4}}{4} - 3 x^{2}$$"
      ],
      "text/plain": [
       " 4       \n",
       "x       2\n",
       "── - 3⋅x \n",
       "4        "
      ]
     },
     "execution_count": 18,
     "metadata": {},
     "output_type": "execute_result"
    }
   ],
   "source": [
    "from sympy import Integral, integrate\n",
    "\n",
    "fx = x**3 - 6*x\n",
    "dx = Integral(fx, x).doit()\n",
    "dx"
   ]
  },
  {
   "cell_type": "code",
   "execution_count": 19,
   "metadata": {},
   "outputs": [
    {
     "data": {
      "text/latex": [
       "$$\\frac{x^{4}}{4} - 3 x^{2}$$"
      ],
      "text/plain": [
       " 4       \n",
       "x       2\n",
       "── - 3⋅x \n",
       "4        "
      ]
     },
     "execution_count": 19,
     "metadata": {},
     "output_type": "execute_result"
    }
   ],
   "source": [
    "# la función integrate nos da el mismo resultado\n",
    "integrate(fx, x)"
   ]
  },
  {
   "cell_type": "markdown",
   "metadata": {
    "collapsed": true
   },
   "source": [
    "El objeto `Integral` también nos permite calcular [integrales definidas](https://es.wikipedia.org/wiki/Integraci%C3%B3n). En este caso, en el segundo argumento le pasamos una tupla cuyo primer elemento es la variable de integración, su segundo elemento es el límite inferior de integración y el último es el límite superior."
   ]
  },
  {
   "cell_type": "code",
   "execution_count": 20,
   "metadata": {},
   "outputs": [
    {
     "data": {
      "text/latex": [
       "$$- \\frac{27}{4}$$"
      ],
      "text/plain": [
       "-27/4"
      ]
     },
     "execution_count": 20,
     "metadata": {},
     "output_type": "execute_result"
    }
   ],
   "source": [
    "# Calculando integral definida para [0, 3]\n",
    "Integral(fx, (x, 0, 3)).doit()"
   ]
  },
  {
   "cell_type": "code",
   "execution_count": 21,
   "metadata": {},
   "outputs": [
    {
     "data": {
      "text/latex": [
       "$$x^{3} - 6 x$$"
      ],
      "text/plain": [
       " 3      \n",
       "x  - 6⋅x"
      ]
     },
     "execution_count": 21,
     "metadata": {},
     "output_type": "execute_result"
    }
   ],
   "source": [
    "# Comprobando Teorema fundamental del calculo.\n",
    "# Integración y diferenciacion son operaciones inversas.\n",
    "diff(integrate(fx))"
   ]
  },
  {
   "cell_type": "code",
   "execution_count": 22,
   "metadata": {},
   "outputs": [
    {
     "data": {
      "text/latex": [
       "$$x^{3} - 6 x$$"
      ],
      "text/plain": [
       " 3      \n",
       "x  - 6⋅x"
      ]
     },
     "execution_count": 22,
     "metadata": {},
     "output_type": "execute_result"
    }
   ],
   "source": [
    "integrate(diff(fx))"
   ]
  },
  {
   "cell_type": "markdown",
   "metadata": {},
   "source": [
    "Como podemos ver, el método para calcular las *[Integrales](https://es.wikipedia.org/wiki/Integraci%C3%B3n)* con [Python](https://www.python.org/), es muy similar a lo que ya veníamos utilizando al calcular *[Límites](https://es.wikipedia.org/wiki/L%C3%ADmite_matem%C3%A1tico)* y *[Derivadas](https://es.wikipedia.org/wiki/Derivada)*. Para calcular *[Integrales](https://es.wikipedia.org/wiki/Integraci%C3%B3n)* en forma numérica, también podemos recurrir al módulo *[scipy.integrate](http://docs.scipy.org/doc/scipy/reference/integrate.html)*, el cual es muy útil para resolver [ecuaciones diferenciales](https://es.wikipedia.org/wiki/Ecuaci%C3%B3n_diferencial), pero eso ya va a quedar para otro artículo."
   ]
  },
  {
   "cell_type": "markdown",
   "metadata": {
    "collapsed": true
   },
   "source": [
    "Con esto concluyo esta introducción por el fascinante mundo del [Cálculo](https://es.wikipedia.org/wiki/C%C3%A1lculo_infinitesimal), espero lo hayan disfrutado tanto como yo!\n",
    "\n",
    "Saludos!\n",
    "\n",
    "*Este post fue escrito utilizando Jupyter notebook. Pueden descargar este [notebook](https://github.com/relopezbriega/relopezbriega.github.io/blob/master/downloads/pyCalculus.ipynb) o ver su version estática en [nbviewer](http://nbviewer.ipython.org/github/relopezbriega/relopezbriega.github.io/blob/master/downloads/pyCalculus.ipynb).*"
   ]
  }
 ],
 "metadata": {
  "kernelspec": {
   "display_name": "Python 3",
   "language": "python",
   "name": "python3"
  },
  "language_info": {
   "codemirror_mode": {
    "name": "ipython",
    "version": 3
   },
   "file_extension": ".py",
   "mimetype": "text/x-python",
   "name": "python",
   "nbconvert_exporter": "python",
   "pygments_lexer": "ipython3",
   "version": "3.5.1+"
  }
 },
 "nbformat": 4,
 "nbformat_minor": 1
}
